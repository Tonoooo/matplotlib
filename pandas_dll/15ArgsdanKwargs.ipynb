{
 "cells": [
  {
   "cell_type": "markdown",
   "id": "117b0d98",
   "metadata": {},
   "source": [
    "# *Args dan **Kwargs"
   ]
  },
  {
   "cell_type": "code",
   "execution_count": null,
   "id": "c1029951",
   "metadata": {},
   "outputs": [],
   "source": [
    "# *Args adalah argumen\n",
    "# **kwargs adalah keyword argumen"
   ]
  },
  {
   "cell_type": "code",
   "execution_count": null,
   "id": "b64c9bcd",
   "metadata": {},
   "outputs": [],
   "source": [
    "# *Args"
   ]
  },
  {
   "cell_type": "code",
   "execution_count": 4,
   "id": "3a8b9f6a",
   "metadata": {},
   "outputs": [],
   "source": [
    "def jumlahh(a,b): \n",
    "    return a + b"
   ]
  },
  {
   "cell_type": "code",
   "execution_count": 5,
   "id": "2fdf9fd5",
   "metadata": {},
   "outputs": [
    {
     "data": {
      "text/plain": [
       "17"
      ]
     },
     "execution_count": 5,
     "metadata": {},
     "output_type": "execute_result"
    }
   ],
   "source": [
    "jumlahh(8,9)"
   ]
  },
  {
   "cell_type": "code",
   "execution_count": 6,
   "id": "73b45efb",
   "metadata": {},
   "outputs": [],
   "source": [
    "# ini (jumlah(a,b)) hanya terbatas memasukkan 2 data saja tidak bisa lebih dari itu,\n",
    "# bagaimana jika kita ingin menjumlahkan/memasukkan lebih banyak data/angka?\n",
    "# maka gunakan lah *args\n",
    "\n",
    "def jumlah(*args): # *args -> args hanya nama saja bisa diganti bebas. yang penting itu bintangnya *\n",
    "    return sum((args)) # kurung yang pertama itu sum(), dan kurung yang didalam kurung itu untuk \n",
    "                       # mengiterasikan argsnya, karna hasil args adalah tuple dan sum() tidak bisa\n",
    "                       # menjumlahkan tuple, maka dari itu pake kurung lagi agar di iterasi dan bisa dijumlahkan\n",
    "\n",
    "# dengan *args kita bisa memasukkan sekian banyak variabel\n",
    "# jadi *args adalah sebuah argumen dimana kita bisa memasukan sekian banyak variabel tanpa harus mendefisinikan berapa variabel"
   ]
  },
  {
   "cell_type": "code",
   "execution_count": 8,
   "id": "3c8eeb32",
   "metadata": {},
   "outputs": [
    {
     "data": {
      "text/plain": [
       "10907"
      ]
     },
     "execution_count": 8,
     "metadata": {},
     "output_type": "execute_result"
    }
   ],
   "source": [
    "jumlah(5,6,7,8,9,5612,445,4815)"
   ]
  },
  {
   "cell_type": "code",
   "execution_count": 12,
   "id": "fc883480",
   "metadata": {},
   "outputs": [],
   "source": [
    "def cek_args(*args):\n",
    "    print(args)"
   ]
  },
  {
   "cell_type": "code",
   "execution_count": 13,
   "id": "ded64b90",
   "metadata": {},
   "outputs": [
    {
     "name": "stdout",
     "output_type": "stream",
     "text": [
      "(2, 3, 4, 5, 6, 7)\n"
     ]
    }
   ],
   "source": [
    "cek_args(2,3,4,5,6,7) # menghasilkan sebuah tuple"
   ]
  },
  {
   "cell_type": "code",
   "execution_count": 9,
   "id": "1affb903",
   "metadata": {},
   "outputs": [],
   "source": [
    "# **kwargs "
   ]
  },
  {
   "cell_type": "code",
   "execution_count": 10,
   "id": "7f459168",
   "metadata": {},
   "outputs": [],
   "source": [
    "def cek_kwargs(**kwargs): # **kwargs -> kwargs hanya nama saja bisa diganti bebas. yang penting itu bintangnya **\n",
    "    print(kwargs)"
   ]
  },
  {
   "cell_type": "code",
   "execution_count": 11,
   "id": "c4737949",
   "metadata": {},
   "outputs": [
    {
     "name": "stdout",
     "output_type": "stream",
     "text": [
      "{'anak': 86}\n"
     ]
    }
   ],
   "source": [
    "cek_kwargs(anak=86) # hasilnya sebuah dictionary"
   ]
  },
  {
   "cell_type": "code",
   "execution_count": 16,
   "id": "e1c82547",
   "metadata": {},
   "outputs": [],
   "source": [
    "#contoh penggunaan **kwargs"
   ]
  },
  {
   "cell_type": "code",
   "execution_count": 21,
   "id": "24f92eea",
   "metadata": {},
   "outputs": [],
   "source": [
    "def cek_berat(**kwargs):\n",
    "    if 'budi' in kwargs:\n",
    "        print('berat budi tergolong ke kategori {}'.format(kwargs['budi']))\n",
    "    else:\n",
    "        print('ini tidak termasuk ke dalam data base kita')\n",
    "        \n",
    "# dengan **kwargs kita bisa sekian bnyak item dictionary di kwargs"
   ]
  },
  {
   "cell_type": "code",
   "execution_count": 23,
   "id": "84cb6daf",
   "metadata": {},
   "outputs": [
    {
     "name": "stdout",
     "output_type": "stream",
     "text": [
      "berat budi tergolong ke kategori gemuk\n"
     ]
    }
   ],
   "source": [
    "cek_berat(budi='gemuk')"
   ]
  },
  {
   "cell_type": "code",
   "execution_count": 24,
   "id": "46f9fa43",
   "metadata": {},
   "outputs": [],
   "source": [
    "# menggabungkan *Args dan **Kwargs"
   ]
  },
  {
   "cell_type": "code",
   "execution_count": 25,
   "id": "a017f570",
   "metadata": {},
   "outputs": [
    {
     "name": "stdout",
     "output_type": "stream",
     "text": [
      "saya ingin membeli 23 Opor ayam secara tunai\n"
     ]
    }
   ],
   "source": [
    "def fungsiku(*args, **kwargs):\n",
    "    print('saya ingin membeli {} {} secara tunai'.format(args[0],kwargs['makanan'])) \n",
    "    \n",
    "fungsiku(23,56,1,buah='apel',makanan='Opor ayam')\n",
    "\n",
    "# args[0] -> 0 adalah indexnya, jadi saat ada yang memasukkan banyak variabel, yang diambil hanya \n",
    "#  variabel yang pertama"
   ]
  },
  {
   "cell_type": "code",
   "execution_count": null,
   "id": "ebfde56e",
   "metadata": {},
   "outputs": [],
   "source": []
  }
 ],
 "metadata": {
  "kernelspec": {
   "display_name": "Python 3 (ipykernel)",
   "language": "python",
   "name": "python3"
  },
  "language_info": {
   "codemirror_mode": {
    "name": "ipython",
    "version": 3
   },
   "file_extension": ".py",
   "mimetype": "text/x-python",
   "name": "python",
   "nbconvert_exporter": "python",
   "pygments_lexer": "ipython3",
   "version": "3.9.5"
  }
 },
 "nbformat": 4,
 "nbformat_minor": 5
}
