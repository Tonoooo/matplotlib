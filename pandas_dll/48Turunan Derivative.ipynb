{
 "cells": [
  {
   "cell_type": "code",
   "execution_count": null,
   "id": "9203178e",
   "metadata": {},
   "outputs": [],
   "source": [
    "# mengapa turunan(derivative) penting?, karna\n",
    "# digunakan untuk optimasi, untuk deeplearning, gradient descent,acrivation function, back propagation"
   ]
  },
  {
   "cell_type": "code",
   "execution_count": 12,
   "id": "7d32d381",
   "metadata": {},
   "outputs": [],
   "source": [
    "import numpy as np\n",
    "import matplotlib.pyplot as plt"
   ]
  },
  {
   "cell_type": "code",
   "execution_count": 2,
   "id": "fb144166",
   "metadata": {},
   "outputs": [],
   "source": [
    "# diferences ->  yt = x(t+1) - xt\n",
    "x = [1,5,8,10]"
   ]
  },
  {
   "cell_type": "code",
   "execution_count": 6,
   "id": "ec22e165",
   "metadata": {},
   "outputs": [
    {
     "name": "stdout",
     "output_type": "stream",
     "text": [
      "4\n",
      "3\n"
     ]
    }
   ],
   "source": [
    "# konsep diferences\n",
    "\n",
    "print(x[1]-x[0]) #pake index\n",
    "print(x[2]-x[1])\n",
    "\n",
    "# maksudnya jadi angka selanjutnya dikurang angka sebelumnya"
   ]
  },
  {
   "cell_type": "code",
   "execution_count": 7,
   "id": "8f64b561",
   "metadata": {},
   "outputs": [
    {
     "data": {
      "text/plain": [
       "array([4, 3, 2])"
      ]
     },
     "execution_count": 7,
     "metadata": {},
     "output_type": "execute_result"
    }
   ],
   "source": [
    "np.diff(x) # menggunakan differences di numppy"
   ]
  },
  {
   "cell_type": "code",
   "execution_count": 8,
   "id": "ba71caca",
   "metadata": {},
   "outputs": [
    {
     "data": {
      "text/plain": [
       "array([1, 2, 3, 4, 5, 6, 7, 8, 9])"
      ]
     },
     "execution_count": 8,
     "metadata": {},
     "output_type": "execute_result"
    }
   ],
   "source": [
    "baru = np.arange(1,10)\n",
    "baru"
   ]
  },
  {
   "cell_type": "code",
   "execution_count": 9,
   "id": "f7abc99d",
   "metadata": {},
   "outputs": [
    {
     "data": {
      "text/plain": [
       "array([1, 1, 1, 1, 1, 1, 1, 1])"
      ]
     },
     "execution_count": 9,
     "metadata": {},
     "output_type": "execute_result"
    }
   ],
   "source": [
    "np.diff(baru)"
   ]
  },
  {
   "cell_type": "code",
   "execution_count": 10,
   "id": "53cca9a3",
   "metadata": {},
   "outputs": [
    {
     "data": {
      "text/plain": [
       "array([1, 1, 1, 1, 1, 1, 1, 1])"
      ]
     },
     "execution_count": 10,
     "metadata": {},
     "output_type": "execute_result"
    }
   ],
   "source": [
    "np.diff(baru,1) # 1 adalah derajatnya"
   ]
  },
  {
   "cell_type": "code",
   "execution_count": 11,
   "id": "c1b932b5",
   "metadata": {},
   "outputs": [
    {
     "data": {
      "text/plain": [
       "array([0, 0, 0, 0, 0, 0, 0])"
      ]
     },
     "execution_count": 11,
     "metadata": {},
     "output_type": "execute_result"
    }
   ],
   "source": [
    "np.diff(baru,2) # 2 adalah derajatnya. ini artinya derajat 2 hasil dari darajat 1"
   ]
  },
  {
   "cell_type": "code",
   "execution_count": null,
   "id": "8f9cab7d",
   "metadata": {},
   "outputs": [],
   "source": [
    "# hasil diffenences ukurannya array/bilangannya selalu kurang dari satu dari yang array/bilangan aslinya"
   ]
  },
  {
   "cell_type": "markdown",
   "id": "a9fadd84",
   "metadata": {},
   "source": [
    "# memahami turunan"
   ]
  },
  {
   "cell_type": "code",
   "execution_count": 23,
   "id": "dfe824d4",
   "metadata": {},
   "outputs": [],
   "source": [
    "'''\n",
    "konsepnya:\n",
    "f(x) = x**2 + 1\n",
    "d(f(x)) = 2x\n",
    "slope = turunan = perubahan f(x)/perubahan x = diff(f(x))/diff(x)\n",
    "'''\n",
    "\n",
    "x = np.linspace(-2,5,200) # dari -2 sampai 5, sebanyak 200 poin\n",
    "f = x**2 + 1\n",
    "dx = np.diff(x)\n",
    "df = np.diff(f)"
   ]
  },
  {
   "cell_type": "code",
   "execution_count": 24,
   "id": "1701b1c0",
   "metadata": {},
   "outputs": [
    {
     "name": "stdout",
     "output_type": "stream",
     "text": [
      "[-2.         -1.96482412 -1.92964824 -1.89447236 -1.85929648 -1.8241206\n",
      " -1.78894472 -1.75376884 -1.71859296 -1.68341709 -1.64824121 -1.61306533\n",
      " -1.57788945 -1.54271357 -1.50753769 -1.47236181 -1.43718593 -1.40201005\n",
      " -1.36683417 -1.33165829 -1.29648241 -1.26130653 -1.22613065 -1.19095477\n",
      " -1.15577889 -1.12060302 -1.08542714 -1.05025126 -1.01507538 -0.9798995\n",
      " -0.94472362 -0.90954774 -0.87437186 -0.83919598 -0.8040201  -0.76884422\n",
      " -0.73366834 -0.69849246 -0.66331658 -0.6281407  -0.59296482 -0.55778894\n",
      " -0.52261307 -0.48743719 -0.45226131 -0.41708543 -0.38190955 -0.34673367\n",
      " -0.31155779 -0.27638191 -0.24120603 -0.20603015 -0.17085427 -0.13567839\n",
      " -0.10050251 -0.06532663 -0.03015075  0.00502513  0.04020101  0.07537688\n",
      "  0.11055276  0.14572864  0.18090452  0.2160804   0.25125628  0.28643216\n",
      "  0.32160804  0.35678392  0.3919598   0.42713568  0.46231156  0.49748744\n",
      "  0.53266332  0.5678392   0.60301508  0.63819095  0.67336683  0.70854271\n",
      "  0.74371859  0.77889447  0.81407035  0.84924623  0.88442211  0.91959799\n",
      "  0.95477387  0.98994975  1.02512563  1.06030151  1.09547739  1.13065327\n",
      "  1.16582915  1.20100503  1.2361809   1.27135678  1.30653266  1.34170854\n",
      "  1.37688442  1.4120603   1.44723618  1.48241206  1.51758794  1.55276382\n",
      "  1.5879397   1.62311558  1.65829146  1.69346734  1.72864322  1.7638191\n",
      "  1.79899497  1.83417085  1.86934673  1.90452261  1.93969849  1.97487437\n",
      "  2.01005025  2.04522613  2.08040201  2.11557789  2.15075377  2.18592965\n",
      "  2.22110553  2.25628141  2.29145729  2.32663317  2.36180905  2.39698492\n",
      "  2.4321608   2.46733668  2.50251256  2.53768844  2.57286432  2.6080402\n",
      "  2.64321608  2.67839196  2.71356784  2.74874372  2.7839196   2.81909548\n",
      "  2.85427136  2.88944724  2.92462312  2.95979899  2.99497487  3.03015075\n",
      "  3.06532663  3.10050251  3.13567839  3.17085427  3.20603015  3.24120603\n",
      "  3.27638191  3.31155779  3.34673367  3.38190955  3.41708543  3.45226131\n",
      "  3.48743719  3.52261307  3.55778894  3.59296482  3.6281407   3.66331658\n",
      "  3.69849246  3.73366834  3.76884422  3.8040201   3.83919598  3.87437186\n",
      "  3.90954774  3.94472362  3.9798995   4.01507538  4.05025126  4.08542714\n",
      "  4.12060302  4.15577889  4.19095477  4.22613065  4.26130653  4.29648241\n",
      "  4.33165829  4.36683417  4.40201005  4.43718593  4.47236181  4.50753769\n",
      "  4.54271357  4.57788945  4.61306533  4.64824121  4.68341709  4.71859296\n",
      "  4.75376884  4.78894472  4.8241206   4.85929648  4.89447236  4.92964824\n",
      "  4.96482412  5.        ]\n"
     ]
    }
   ],
   "source": [
    "print(x)"
   ]
  },
  {
   "cell_type": "code",
   "execution_count": 26,
   "id": "44e2d101",
   "metadata": {},
   "outputs": [
    {
     "data": {
      "image/png": "[encoded data removed]",
      "text/plain": [
       "<Figure size 432x288 with 1 Axes>"
      ]
     },
     "metadata": {
      "needs_background": "light"
     },
     "output_type": "display_data"
    }
   ],
   "source": [
    "plt.plot(x,f, label='f')\n",
    "plt.plot(x[:-1],df/dx,label='df/dx') #x[:-1] = dikurang satu jadi 199\n",
    "plt.grid() # biar ada garis garis / kotak kotak di background\n",
    "plt.legend() # untuk menampilkan label\n",
    "plt.axis([-2,5,-10,20])\n",
    "plt.show()"
   ]
  },
  {
   "cell_type": "code",
   "execution_count": null,
   "id": "0ad4539a",
   "metadata": {},
   "outputs": [],
   "source": [
    "# f(x) = x**2 + 1\n",
    "# jika x = 3, maka f= 10\n",
    "# jika x = 2, maka f= 2\n",
    "# slope = perubahan f/perubahan x = (10-2)/(3-1) = 8/2 = 4"
   ]
  }
 ],
 "metadata": {
  "kernelspec": {
   "display_name": "Python 3 (ipykernel)",
   "language": "python",
   "name": "python3"
  },
  "language_info": {
   "codemirror_mode": {
    "name": "ipython",
    "version": 3
   },
   "file_extension": ".py",
   "mimetype": "text/x-python",
   "name": "python",
   "nbconvert_exporter": "python",
   "pygments_lexer": "ipython3",
   "version": "3.9.5"
  }
 },
 "nbformat": 4,
 "nbformat_minor": 5
}
