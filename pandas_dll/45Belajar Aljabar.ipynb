{
 "cells": [
  {
   "cell_type": "code",
   "execution_count": 3,
   "id": "e36580d7",
   "metadata": {},
   "outputs": [],
   "source": [
    "import sympy as sym\n",
    "from IPython.display import Math\n",
    "import numpy as np\n",
    "import math"
   ]
  },
  {
   "cell_type": "code",
   "execution_count": 4,
   "id": "79730f7d",
   "metadata": {},
   "outputs": [
    {
     "ename": "NameError",
     "evalue": "name 'x' is not defined",
     "output_type": "error",
     "traceback": [
      "\u001b[1;31m---------------------------------------------------------------------------\u001b[0m",
      "\u001b[1;31mNameError\u001b[0m                                 Traceback (most recent call last)",
      "\u001b[1;32m~\\AppData\\Local\\Temp/ipykernel_7624/3910072144.py\u001b[0m in \u001b[0;36m<module>\u001b[1;34m\u001b[0m\n\u001b[1;32m----> 1\u001b[1;33m \u001b[0mx\u001b[0m \u001b[1;31m# ini akan error\u001b[0m\u001b[1;33m\u001b[0m\u001b[1;33m\u001b[0m\u001b[0m\n\u001b[0m",
      "\u001b[1;31mNameError\u001b[0m: name 'x' is not defined"
     ]
    }
   ],
   "source": [
    "x # ini akan error"
   ]
  },
  {
   "cell_type": "code",
   "execution_count": 20,
   "id": "7fbe05c4",
   "metadata": {},
   "outputs": [],
   "source": [
    "x = sym.symbols('x') # artinya si variabel x ini merupakan symbol matematis di sympy"
   ]
  },
  {
   "cell_type": "code",
   "execution_count": 21,
   "id": "7f4c077e",
   "metadata": {},
   "outputs": [
    {
     "data": {
      "text/latex": [
       "$\\displaystyle x$"
      ],
      "text/plain": [
       "x"
      ]
     },
     "execution_count": 21,
     "metadata": {},
     "output_type": "execute_result"
    }
   ],
   "source": [
    "x  # tidak akan error karna si variabel x ini merupakan symbol matematis di sympy \n",
    "   # jadi si variabel x ini memiliki simbol x. dengan ini kita bisa memproses seperti aritmatika,dll"
   ]
  },
  {
   "cell_type": "code",
   "execution_count": 22,
   "id": "a4c21afb",
   "metadata": {},
   "outputs": [
    {
     "data": {
      "text/latex": [
       "$\\displaystyle x^{7}$"
      ],
      "text/plain": [
       "x**7"
      ]
     },
     "execution_count": 22,
     "metadata": {},
     "output_type": "execute_result"
    }
   ],
   "source": [
    "x**7"
   ]
  },
  {
   "cell_type": "code",
   "execution_count": 23,
   "id": "77a843c1",
   "metadata": {},
   "outputs": [
    {
     "data": {
      "text/latex": [
       "$\\displaystyle x + 10$"
      ],
      "text/plain": [
       "x + 10"
      ]
     },
     "execution_count": 23,
     "metadata": {},
     "output_type": "execute_result"
    }
   ],
   "source": [
    "x + 10 "
   ]
  },
  {
   "cell_type": "code",
   "execution_count": 5,
   "id": "0c4e75d5",
   "metadata": {},
   "outputs": [
    {
     "ename": "NameError",
     "evalue": "name 'x' is not defined",
     "output_type": "error",
     "traceback": [
      "\u001b[1;31m---------------------------------------------------------------------------\u001b[0m",
      "\u001b[1;31mNameError\u001b[0m                                 Traceback (most recent call last)",
      "\u001b[1;32m~\\AppData\\Local\\Temp/ipykernel_7624/832794099.py\u001b[0m in \u001b[0;36m<module>\u001b[1;34m\u001b[0m\n\u001b[1;32m----> 1\u001b[1;33m \u001b[0mdisplay\u001b[0m\u001b[1;33m(\u001b[0m\u001b[0mx\u001b[0m\u001b[1;33m+\u001b[0m\u001b[1;36m10\u001b[0m\u001b[1;33m)\u001b[0m \u001b[1;31m# display seperti print\u001b[0m\u001b[1;33m\u001b[0m\u001b[1;33m\u001b[0m\u001b[0m\n\u001b[0m",
      "\u001b[1;31mNameError\u001b[0m: name 'x' is not defined"
     ]
    }
   ],
   "source": [
    "display(x+10) # display seperti print"
   ]
  },
  {
   "cell_type": "code",
   "execution_count": 6,
   "id": "189cd052",
   "metadata": {},
   "outputs": [],
   "source": [
    "y,z = sym.symbols('y,z')"
   ]
  },
  {
   "cell_type": "code",
   "execution_count": 7,
   "id": "041959fc",
   "metadata": {},
   "outputs": [
    {
     "data": {
      "text/latex": [
       "$\\displaystyle y$"
      ],
      "text/plain": [
       "y"
      ]
     },
     "execution_count": 7,
     "metadata": {},
     "output_type": "execute_result"
    }
   ],
   "source": [
    "y"
   ]
  },
  {
   "cell_type": "code",
   "execution_count": 8,
   "id": "847e933f",
   "metadata": {},
   "outputs": [
    {
     "data": {
      "text/latex": [
       "$\\displaystyle z$"
      ],
      "text/plain": [
       "z"
      ]
     },
     "execution_count": 8,
     "metadata": {},
     "output_type": "execute_result"
    }
   ],
   "source": [
    "z"
   ]
  },
  {
   "cell_type": "code",
   "execution_count": 9,
   "id": "a04794c7",
   "metadata": {},
   "outputs": [
    {
     "data": {
      "text/latex": [
       "$\\displaystyle \\frac{x}{y}$"
      ],
      "text/plain": [
       "<IPython.core.display.Math object>"
      ]
     },
     "metadata": {},
     "output_type": "display_data"
    }
   ],
   "source": [
    "display(Math('\\\\frac{x}{y}'))"
   ]
  },
  {
   "cell_type": "code",
   "execution_count": 10,
   "id": "9c008960",
   "metadata": {},
   "outputs": [
    {
     "ename": "NameError",
     "evalue": "name 'x' is not defined",
     "output_type": "error",
     "traceback": [
      "\u001b[1;31m---------------------------------------------------------------------------\u001b[0m",
      "\u001b[1;31mNameError\u001b[0m                                 Traceback (most recent call last)",
      "\u001b[1;32m~\\AppData\\Local\\Temp/ipykernel_7624/3476421590.py\u001b[0m in \u001b[0;36m<module>\u001b[1;34m\u001b[0m\n\u001b[1;32m----> 1\u001b[1;33m \u001b[0mx\u001b[0m\u001b[1;33m/\u001b[0m\u001b[0my\u001b[0m \u001b[1;31m# ini bisa jadi per karna x dan y itu sudah pake sym, jika tidak pake sym maka tidak bisa\u001b[0m\u001b[1;33m\u001b[0m\u001b[1;33m\u001b[0m\u001b[0m\n\u001b[0m",
      "\u001b[1;31mNameError\u001b[0m: name 'x' is not defined"
     ]
    }
   ],
   "source": [
    "x/y # ini bisa jadi per karna x dan y itu sudah pake sym, jika tidak pake sym maka tidak bisa"
   ]
  },
  {
   "cell_type": "code",
   "execution_count": 11,
   "id": "10a2e6a6",
   "metadata": {},
   "outputs": [
    {
     "data": {
      "text/latex": [
       "$\\displaystyle \\sqrt{6}$"
      ],
      "text/plain": [
       "sqrt(6)"
      ]
     },
     "metadata": {},
     "output_type": "display_data"
    }
   ],
   "source": [
    "display(sym.sqrt(6)) # sqrt untuk menanpilkan simbol akar"
   ]
  },
  {
   "cell_type": "code",
   "execution_count": 12,
   "id": "2fef5417",
   "metadata": {},
   "outputs": [
    {
     "data": {
      "text/plain": [
       "9.0"
      ]
     },
     "execution_count": 12,
     "metadata": {},
     "output_type": "execute_result"
    }
   ],
   "source": [
    "np.sqrt(81) # sqrt numpy ini untuk memproses hasil akar, jadi ini mencari hasil akar dari 81 adalah"
   ]
  },
  {
   "cell_type": "code",
   "execution_count": 13,
   "id": "ed27a47e",
   "metadata": {},
   "outputs": [
    {
     "data": {
      "text/plain": [
       "8.0"
      ]
     },
     "execution_count": 13,
     "metadata": {},
     "output_type": "execute_result"
    }
   ],
   "source": [
    "math.sqrt(64) # sqrt math ini juga sama untuk memproses hasil akar,  jadi ini mencari hasil akar dari 64 adalah"
   ]
  },
  {
   "cell_type": "code",
   "execution_count": 14,
   "id": "13c02d64",
   "metadata": {},
   "outputs": [],
   "source": [
    "# bebas mau pake sqrt yang mana"
   ]
  },
  {
   "cell_type": "markdown",
   "id": "7d69378a",
   "metadata": {},
   "source": [
    "# lanjut.."
   ]
  },
  {
   "cell_type": "code",
   "execution_count": 15,
   "id": "b463a1ea",
   "metadata": {},
   "outputs": [
    {
     "data": {
      "text/latex": [
       "$\\displaystyle \\sigma = \\frac {\\mu}{\\sqrt{x+y^{25z}}}$"
      ],
      "text/plain": [
       "<IPython.core.display.Math object>"
      ]
     },
     "metadata": {},
     "output_type": "display_data"
    }
   ],
   "source": [
    "display(Math('\\\\sigma = \\\\frac {\\\\mu}{\\\\sqrt{x+y^{25z}}}')) \n",
    "# kan ada dua garis miring \\\\ garis miring pertama disebut escape karakter\n",
    "# contoh \\\\sigma = garis miring \\ pertama disebut escape karakter dan \\sigma untuk simbol sigma\n",
    "# \\mu  untuk simbol"
   ]
  },
  {
   "cell_type": "code",
   "execution_count": 16,
   "id": "d43bbf7d",
   "metadata": {},
   "outputs": [
    {
     "data": {
      "text/latex": [
       "$\\displaystyle z_{k}$"
      ],
      "text/plain": [
       "<IPython.core.display.Math object>"
      ]
     },
     "metadata": {},
     "output_type": "display_data"
    },
    {
     "data": {
      "text/latex": [
       "$\\displaystyle 20_{5}$"
      ],
      "text/plain": [
       "<IPython.core.display.Math object>"
      ]
     },
     "metadata": {},
     "output_type": "display_data"
    }
   ],
   "source": [
    "# pangkat dibawah\n",
    "display(Math('z_{k}'))\n",
    "display(Math('20_{5}'))"
   ]
  },
  {
   "cell_type": "code",
   "execution_count": 7,
   "id": "3c6f9584",
   "metadata": {},
   "outputs": [
    {
     "data": {
      "text/latex": [
       "$\\displaystyle \\text{Jawabannya yang benar = }\\frac{x}{y_{25}}$"
      ],
      "text/plain": [
       "<IPython.core.display.Math object>"
      ]
     },
     "metadata": {},
     "output_type": "display_data"
    }
   ],
   "source": [
    "# pernyataan / keterangan\n",
    "display(Math('\\\\text{Jawabannya yang benar = }\\\\frac{x}{y_{25}}'))\n",
    "# \\text = untuk menulis text karna jika tidak pake itu nanti tulisannya malah seperti matematika"
   ]
  },
  {
   "cell_type": "markdown",
   "id": "28aa21e5",
   "metadata": {},
   "source": [
    "$$ \\text{ini uji coba markdown } \\frac{x}{y} $$"
   ]
  },
  {
   "cell_type": "code",
   "execution_count": 9,
   "id": "c7c4b4a7",
   "metadata": {},
   "outputs": [
    {
     "data": {
      "text/latex": [
       "$\\displaystyle \\sin{3\\pi + \\theta}$"
      ],
      "text/plain": [
       "<IPython.core.display.Math object>"
      ]
     },
     "metadata": {},
     "output_type": "display_data"
    }
   ],
   "source": [
    "display(Math('\\\\sin{3\\\\pi + \\\\theta}'))"
   ]
  },
  {
   "cell_type": "code",
   "execution_count": 10,
   "id": "3128e76e",
   "metadata": {},
   "outputs": [
    {
     "data": {
      "text/latex": [
       "$\\displaystyle e = mc^2$"
      ],
      "text/plain": [
       "<IPython.core.display.Math object>"
      ]
     },
     "metadata": {},
     "output_type": "display_data"
    }
   ],
   "source": [
    "display(Math('e = mc^2'))"
   ]
  },
  {
   "cell_type": "markdown",
   "id": "4b80670d",
   "metadata": {},
   "source": [
    "# persoalan aljabar"
   ]
  },
  {
   "cell_type": "code",
   "execution_count": 17,
   "id": "c6da9304",
   "metadata": {},
   "outputs": [],
   "source": [
    "mu, alpha, sigma = sym.symbols('mu, alpha, sigma')"
   ]
  },
  {
   "cell_type": "code",
   "execution_count": 18,
   "id": "78b36b72",
   "metadata": {},
   "outputs": [],
   "source": [
    "p = mu + 45 + sym.exp(sigma+alpha)"
   ]
  },
  {
   "cell_type": "code",
   "execution_count": 19,
   "id": "af9da652",
   "metadata": {},
   "outputs": [
    {
     "data": {
      "text/latex": [
       "$\\displaystyle \\mu + e^{\\alpha + \\sigma} + 45$"
      ],
      "text/plain": [
       "mu + exp(alpha + sigma) + 45"
      ]
     },
     "metadata": {},
     "output_type": "display_data"
    }
   ],
   "source": [
    "display(p)"
   ]
  },
  {
   "cell_type": "code",
   "execution_count": 24,
   "id": "4bf62613",
   "metadata": {},
   "outputs": [],
   "source": [
    "x, y, z = sym.symbols('x, y, z')"
   ]
  },
  {
   "cell_type": "code",
   "execution_count": 25,
   "id": "4c278851",
   "metadata": {},
   "outputs": [],
   "source": [
    "p = x + 10"
   ]
  },
  {
   "cell_type": "code",
   "execution_count": 26,
   "id": "28900ce0",
   "metadata": {},
   "outputs": [
    {
     "data": {
      "text/latex": [
       "$\\displaystyle 12$"
      ],
      "text/plain": [
       "12"
      ]
     },
     "execution_count": 26,
     "metadata": {},
     "output_type": "execute_result"
    }
   ],
   "source": [
    "p.subs(x,2) \n",
    "# karna p adalah symbols jadi bisa pake method subs\n",
    "# x + 2"
   ]
  },
  {
   "cell_type": "markdown",
   "id": "67bb0eae",
   "metadata": {},
   "source": [
    "# Memecahkan Persoalan Aljabar"
   ]
  },
  {
   "cell_type": "code",
   "execution_count": 28,
   "id": "3574db05",
   "metadata": {},
   "outputs": [],
   "source": [
    "# untuk memecahkan persamaan aljabar\n",
    "# persamaan tersebut harus homogenus\n",
    "#5x + 5 = 20 # ini bukan persamaan homogenus\n",
    "# homogenus harus simbol dan angka harus disatu sisi yang sama. contoh:\n",
    "# homogenus\n",
    "#5x + 5 - 20 = 0\n",
    "#0 = 5x - 5 + 20 # atau ini"
   ]
  },
  {
   "cell_type": "code",
   "execution_count": 29,
   "id": "de363d10",
   "metadata": {},
   "outputs": [],
   "source": [
    "x = sym.symbols('x') # kita memperkenal kan symbols x ke python"
   ]
  },
  {
   "cell_type": "code",
   "execution_count": 30,
   "id": "537364fc",
   "metadata": {},
   "outputs": [],
   "source": [
    "p = 5*x + 5 - 20"
   ]
  },
  {
   "cell_type": "code",
   "execution_count": 31,
   "id": "bc6699d4",
   "metadata": {},
   "outputs": [
    {
     "data": {
      "text/plain": [
       "[3]"
      ]
     },
     "execution_count": 31,
     "metadata": {},
     "output_type": "execute_result"
    }
   ],
   "source": [
    "sym.solve(p) # solve adalah  kata kuncinya untuk memcahkan persamaan p\n",
    "# ingat hasilnya berupa list "
   ]
  },
  {
   "cell_type": "code",
   "execution_count": 32,
   "id": "c9c33af2",
   "metadata": {},
   "outputs": [],
   "source": [
    "# caranya\n",
    "#5x + 5 - 20 = 0\n",
    "#5x - 10 = 0\n",
    "#5x = 15\n",
    "#x = 15/5\n",
    "#x = 3"
   ]
  },
  {
   "cell_type": "code",
   "execution_count": 37,
   "id": "5a503208",
   "metadata": {},
   "outputs": [
    {
     "data": {
      "text/latex": [
       "$\\displaystyle \\text{solusi dari persamaan }5 x - 15 \\text{ adalah x = }3$"
      ],
      "text/plain": [
       "<IPython.core.display.Math object>"
      ]
     },
     "metadata": {},
     "output_type": "display_data"
    }
   ],
   "source": [
    "display(Math('\\\\text{solusi dari persamaan }%s \\\\text{ adalah x = }%g' %(sym.latex(p), sym.solve(p)[0])))\n",
    "# [0] artinya kan hasil solve berupa list, jadi kita mengambil index pertama\n",
    "# karna jawaban aljabar bisa jadi banyak"
   ]
  },
  {
   "cell_type": "code",
   "execution_count": 38,
   "id": "1cb1b66c",
   "metadata": {},
   "outputs": [
    {
     "data": {
      "text/plain": [
       "[-2, 2]"
      ]
     },
     "execution_count": 38,
     "metadata": {},
     "output_type": "execute_result"
    }
   ],
   "source": [
    "p2 = x**2 - 4\n",
    "sym.solve(p2)"
   ]
  },
  {
   "cell_type": "code",
   "execution_count": 39,
   "id": "e235bc27",
   "metadata": {},
   "outputs": [],
   "source": [
    "# penjelasan:\n",
    "#x**2 = 4 # ini tuh homogen sama seperti x**2 - 4 = 0\n",
    "# jadi berapa yang dipangkatkan 2 hasilnya 4\n",
    "# bisa 2 * 2 atau -2 * -2\n",
    "# duaduanya hasilnya 4, jadi memiliki dua solusi"
   ]
  },
  {
   "cell_type": "code",
   "execution_count": 40,
   "id": "2d1acbde",
   "metadata": {},
   "outputs": [],
   "source": [
    "# KESIMPULAN\n",
    "\n",
    "# jadi sipython sudah tau kalau kita sym.solve(p2 atau p) maka python sudah tau bahwa ada satu symbols\n",
    "# x maka solusi nya hanya untuk x"
   ]
  },
  {
   "cell_type": "code",
   "execution_count": 41,
   "id": "e9f8f7e1",
   "metadata": {},
   "outputs": [],
   "source": [
    "y = sym.symbols('y') # kita memperkenal kan symbols y ke python"
   ]
  },
  {
   "cell_type": "code",
   "execution_count": 42,
   "id": "3b241a85",
   "metadata": {},
   "outputs": [],
   "source": [
    "p3 = x/10 - x*y + 50"
   ]
  },
  {
   "cell_type": "code",
   "execution_count": 44,
   "id": "875305c5",
   "metadata": {},
   "outputs": [
    {
     "data": {
      "text/plain": [
       "[500/(10*y - 1)]"
      ]
     },
     "execution_count": 44,
     "metadata": {},
     "output_type": "execute_result"
    }
   ],
   "source": [
    "sym.solve(p3,x) # p3 itu variabelnya dan x berada disatu sisi nanti jadi  ini mecari nilai x"
   ]
  },
  {
   "cell_type": "code",
   "execution_count": 45,
   "id": "92d147bb",
   "metadata": {},
   "outputs": [
    {
     "data": {
      "text/plain": [
       "[(x + 500)/(10*x)]"
      ]
     },
     "execution_count": 45,
     "metadata": {},
     "output_type": "execute_result"
    }
   ],
   "source": [
    "sym.solve(p3,y) # ini mencari nilai y"
   ]
  },
  {
   "cell_type": "code",
   "execution_count": null,
   "id": "8231f154",
   "metadata": {},
   "outputs": [],
   "source": []
  }
 ],
 "metadata": {
  "kernelspec": {
   "display_name": "Python 3 (ipykernel)",
   "language": "python",
   "name": "python3"
  },
  "language_info": {
   "codemirror_mode": {
    "name": "ipython",
    "version": 3
   },
   "file_extension": ".py",
   "mimetype": "text/x-python",
   "name": "python",
   "nbconvert_exporter": "python",
   "pygments_lexer": "ipython3",
   "version": "3.9.5"
  }
 },
 "nbformat": 4,
 "nbformat_minor": 5
}
