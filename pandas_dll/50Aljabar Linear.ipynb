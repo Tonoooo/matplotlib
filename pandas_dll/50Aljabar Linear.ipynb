{
 "cells": [
  {
   "cell_type": "code",
   "execution_count": 1,
   "id": "064a5dc6",
   "metadata": {},
   "outputs": [],
   "source": [
    "import numpy as np\n",
    "import sympy as sym\n",
    "import matplotlib.pyplot as plt\n",
    "from IPython.display import Math"
   ]
  },
  {
   "cell_type": "code",
   "execution_count": 4,
   "id": "0f7479c6",
   "metadata": {},
   "outputs": [
    {
     "data": {
      "image/png": "[encoded data removed]",
      "text/plain": [
       "<Figure size 432x288 with 1 Axes>"
      ]
     },
     "metadata": {
      "needs_background": "light"
     },
     "output_type": "display_data"
    }
   ],
   "source": [
    "# perkalian skalar\n",
    "v = np.array([1,2]) # vektornya\n",
    "sk = [-0.5, 1, 1.5, 3] # skalarmya\n",
    "\n",
    "for i in sk:\n",
    "    sk_v = i*v # skalar dikali vektor\n",
    "    plt.plot([0, sk_v[0]], [0, sk_v[1]], 'o-', linewidth=3, label='Sklar=%d' %i)\n",
    "    \n",
    "plt.axis('square') # agar siplotnya kotak\n",
    "plt.grid()\n",
    "plt.legend()\n",
    "plt.show()"
   ]
  },
  {
   "cell_type": "code",
   "execution_count": 5,
   "id": "16ea7476",
   "metadata": {},
   "outputs": [
    {
     "name": "stdout",
     "output_type": "stream",
     "text": [
      "[4 4] [4 4]\n"
     ]
    }
   ],
   "source": [
    "# penjumlahan vektor\n",
    "v1 = np.array([1,3])\n",
    "v2 = np.array([3,1])\n",
    "\n",
    "# ada 2 cara untuk menjumlah kan vektor\n",
    "v3a = v1 + v2 \n",
    "v3b = np.add(v1,v2)\n",
    "\n",
    "print(v3a,v3b)"
   ]
  },
  {
   "cell_type": "code",
   "execution_count": 6,
   "id": "ed9603fb",
   "metadata": {},
   "outputs": [
    {
     "data": {
      "image/png": "[encoded data removed]",
      "text/plain": [
       "<Figure size 432x288 with 1 Axes>"
      ]
     },
     "metadata": {
      "needs_background": "light"
     },
     "output_type": "display_data"
    }
   ],
   "source": [
    "# membuat plotnya\n",
    "plt.plot([0, v1[0]], [0, v1[1]], linewidth=3, label='v1')\n",
    "plt.plot([0, v2[0]], [0, v2[1]], linewidth=3, label='v2')\n",
    "plt.plot([0, v3a[0]], [0, v3a[1]], linewidth=3, label='v3a')\n",
    "plt.axis('square')\n",
    "plt.legend()\n",
    "plt.grid()\n",
    "plt.show()"
   ]
  },
  {
   "cell_type": "code",
   "execution_count": 7,
   "id": "286872c3",
   "metadata": {},
   "outputs": [
    {
     "data": {
      "image/png": "[encoded data removed]",
      "text/plain": [
       "<Figure size 432x288 with 1 Axes>"
      ]
     },
     "metadata": {
      "needs_background": "light"
     },
     "output_type": "display_data"
    }
   ],
   "source": [
    "plt.plot([0, v1[0]], [0, v1[1]], linewidth=3, label='v1')\n",
    "plt.plot([0, v2[0]]+v1[0], [0, v2[1]]+v1[1], linewidth=3, label='v2')\n",
    "plt.plot([0, v3a[0]], [0, v3a[1]], linewidth=3, label='v3a')\n",
    "plt.axis('square')\n",
    "plt.legend()\n",
    "plt.grid()\n",
    "plt.show()"
   ]
  },
  {
   "cell_type": "code",
   "execution_count": 9,
   "id": "e072083a",
   "metadata": {},
   "outputs": [
    {
     "data": {
      "text/latex": [
       "$\\displaystyle \\left[\\begin{matrix}1 & 3\\end{matrix}\\right]+\\left[\\begin{matrix}3 & 1\\end{matrix}\\right] = \\left[\\begin{matrix}4 & 4\\end{matrix}\\right]$"
      ],
      "text/plain": [
       "<IPython.core.display.Math object>"
      ]
     },
     "metadata": {},
     "output_type": "display_data"
    }
   ],
   "source": [
    "p1 = sym.latex(sym.sympify(v1))\n",
    "p2 = sym.latex(sym.sympify(v2))\n",
    "p3 = sym.latex(sym.sympify(v3a))\n",
    "\n",
    "display(Math('%s+%s = %s' %(p1,p2,p3)))"
   ]
  },
  {
   "cell_type": "code",
   "execution_count": null,
   "id": "d86dea7c",
   "metadata": {},
   "outputs": [],
   "source": []
  }
 ],
 "metadata": {
  "kernelspec": {
   "display_name": "Python 3 (ipykernel)",
   "language": "python",
   "name": "python3"
  },
  "language_info": {
   "codemirror_mode": {
    "name": "ipython",
    "version": 3
   },
   "file_extension": ".py",
   "mimetype": "text/x-python",
   "name": "python",
   "nbconvert_exporter": "python",
   "pygments_lexer": "ipython3",
   "version": "3.9.5"
  }
 },
 "nbformat": 4,
 "nbformat_minor": 5
}
