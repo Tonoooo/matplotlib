{
 "cells": [
  {
   "cell_type": "code",
   "execution_count": 1,
   "id": "dd3e5cfa",
   "metadata": {},
   "outputs": [],
   "source": [
    "# summation\n",
    "b1 = [1,2,3,4,5]"
   ]
  },
  {
   "cell_type": "code",
   "execution_count": 2,
   "id": "cbab075b",
   "metadata": {},
   "outputs": [
    {
     "data": {
      "text/plain": [
       "15"
      ]
     },
     "execution_count": 2,
     "metadata": {},
     "output_type": "execute_result"
    }
   ],
   "source": [
    "sum(b1)"
   ]
  },
  {
   "cell_type": "code",
   "execution_count": 3,
   "id": "00642bc5",
   "metadata": {},
   "outputs": [
    {
     "data": {
      "text/plain": [
       "15"
      ]
     },
     "execution_count": 3,
     "metadata": {},
     "output_type": "execute_result"
    }
   ],
   "source": [
    "import numpy as np\n",
    "np.sum(b1) "
   ]
  },
  {
   "cell_type": "code",
   "execution_count": null,
   "id": "4c3d00f7",
   "metadata": {},
   "outputs": [],
   "source": [
    "# terserah mau pake sum biasa atau sum numpy"
   ]
  },
  {
   "cell_type": "code",
   "execution_count": 4,
   "id": "f161467b",
   "metadata": {},
   "outputs": [
    {
     "data": {
      "text/plain": [
       "120"
      ]
     },
     "execution_count": 4,
     "metadata": {},
     "output_type": "execute_result"
    }
   ],
   "source": [
    "# products\n",
    "np.prod(b1)"
   ]
  },
  {
   "cell_type": "code",
   "execution_count": 5,
   "id": "1c23ab3b",
   "metadata": {},
   "outputs": [
    {
     "data": {
      "text/plain": [
       "array([ 1,  3,  6, 10, 15], dtype=int32)"
      ]
     },
     "execution_count": 5,
     "metadata": {},
     "output_type": "execute_result"
    }
   ],
   "source": [
    "# cumulative summation\n",
    "np.cumsum(b1)  \n",
    "# setelah dirun\n",
    "# ini seperti yn = x1+x2+x3...+xn\n",
    "# jadi yang di [] itu adalah[y1, y2, y3, y4, y5]"
   ]
  },
  {
   "cell_type": "code",
   "execution_count": 6,
   "id": "de21d9cb",
   "metadata": {},
   "outputs": [],
   "source": [
    "b2 = np.array([[1,2,3],[4,5,6]])"
   ]
  },
  {
   "cell_type": "code",
   "execution_count": 7,
   "id": "d6a44fde",
   "metadata": {},
   "outputs": [
    {
     "name": "stdout",
     "output_type": "stream",
     "text": [
      "[[1 2 3]\n",
      " [4 5 6]]\n"
     ]
    }
   ],
   "source": [
    "print(b2)"
   ]
  },
  {
   "cell_type": "code",
   "execution_count": 13,
   "id": "4abd8ca5",
   "metadata": {},
   "outputs": [],
   "source": [
    "from IPython.display import Math\n",
    "import sympy as sym"
   ]
  },
  {
   "cell_type": "code",
   "execution_count": 14,
   "id": "598e22d0",
   "metadata": {},
   "outputs": [
    {
     "data": {
      "text/latex": [
       "$\\displaystyle \\left[\\begin{matrix}1 & 2 & 3\\\\4 & 5 & 6\\end{matrix}\\right]$"
      ],
      "text/plain": [
       "<IPython.core.display.Math object>"
      ]
     },
     "metadata": {},
     "output_type": "display_data"
    }
   ],
   "source": [
    "# agar ditampilkan seperti matrix\n",
    "display(Math(sym.latex(sym.simplify(b2))))"
   ]
  },
  {
   "cell_type": "code",
   "execution_count": 15,
   "id": "f33c5a76",
   "metadata": {},
   "outputs": [
    {
     "data": {
      "text/plain": [
       "array([ 1,  3,  6, 10, 15, 21], dtype=int32)"
      ]
     },
     "execution_count": 15,
     "metadata": {},
     "output_type": "execute_result"
    }
   ],
   "source": [
    "np.cumsum(b2)\n",
    "# diaksesnya perbaris\n",
    "# jadi seperti( 1 2 3 4 5 6)\n",
    "# setelah dirun\n",
    "# ini seperti yn = x1+x2+x3...+xn\n",
    "# jadi yang di [] itu adalah[y1, y2, y3, y4, y5]"
   ]
  },
  {
   "cell_type": "code",
   "execution_count": 16,
   "id": "4dc63cd6",
   "metadata": {},
   "outputs": [],
   "source": [
    "import matplotlib.pyplot as plt\n",
    "import seaborn as sns\n",
    "sns.set()"
   ]
  },
  {
   "cell_type": "code",
   "execution_count": 18,
   "id": "469fd281",
   "metadata": {},
   "outputs": [
    {
     "data": {
      "image/png": "[encoded data removed]",
      "text/plain": [
       "<Figure size 432x288 with 1 Axes>"
      ]
     },
     "metadata": {},
     "output_type": "display_data"
    }
   ],
   "source": [
    "plt.plot(b1,'rs-') #warna merah dan titiknya disatukan\n",
    "plt.plot(np.cumsum(b1),'bo-') # warna biru\n",
    "plt.legend(['b1','kumulatif'])\n",
    "plt.show()\n",
    "# warna biru yang sum kumulatif"
   ]
  },
  {
   "cell_type": "code",
   "execution_count": 19,
   "id": "0f04ed8d",
   "metadata": {},
   "outputs": [
    {
     "data": {
      "image/png": "[encoded data removed]",
      "text/plain": [
       "<Figure size 432x288 with 1 Axes>"
      ]
     },
     "metadata": {},
     "output_type": "display_data"
    }
   ],
   "source": [
    "# kumulatif prod\n",
    "plt.plot(b1,'rs-') #warna merah dan titiknya disatukan\n",
    "plt.plot(np.cumprod(b1),'bo-') # warna biru\n",
    "plt.legend(['b1','kum_prod'])\n",
    "plt.show()"
   ]
  },
  {
   "cell_type": "code",
   "execution_count": 20,
   "id": "4c4ae07b",
   "metadata": {},
   "outputs": [
    {
     "data": {
      "text/plain": [
       "array([  1,   2,   6,  24, 120], dtype=int32)"
      ]
     },
     "execution_count": 20,
     "metadata": {},
     "output_type": "execute_result"
    }
   ],
   "source": [
    "np.cumprod(b1)"
   ]
  },
  {
   "cell_type": "markdown",
   "id": "1a19610f",
   "metadata": {},
   "source": [
    "# latihan"
   ]
  },
  {
   "cell_type": "code",
   "execution_count": 21,
   "id": "0d3883eb",
   "metadata": {},
   "outputs": [],
   "source": [
    "bil2 = np.arange(1,5)"
   ]
  },
  {
   "cell_type": "code",
   "execution_count": 23,
   "id": "9f6ea677",
   "metadata": {},
   "outputs": [],
   "source": [
    "p1 = np.sum(bil2)\n",
    "p2 = np.sum(bil2**2)\n",
    "\n",
    "j1 = p1/p2\n",
    "j2 = 1/p1"
   ]
  },
  {
   "cell_type": "code",
   "execution_count": 24,
   "id": "3fe17546",
   "metadata": {},
   "outputs": [
    {
     "name": "stdout",
     "output_type": "stream",
     "text": [
      "jawaban 1 hasilnya adalah 0.3333333333333333 \n",
      "jawaban 2 hasilnya adalah 0.1\n"
     ]
    }
   ],
   "source": [
    "print(f'jawaban 1 hasilnya adalah {j1} \\njawaban 2 hasilnya adalah {j2}')"
   ]
  },
  {
   "cell_type": "code",
   "execution_count": 25,
   "id": "33311dbf",
   "metadata": {},
   "outputs": [
    {
     "data": {
      "text/plain": [
       "False"
      ]
     },
     "execution_count": 25,
     "metadata": {},
     "output_type": "execute_result"
    }
   ],
   "source": [
    "# mencari tau apa sama\n",
    "j1 == j2"
   ]
  },
  {
   "cell_type": "code",
   "execution_count": 26,
   "id": "74edea55",
   "metadata": {},
   "outputs": [],
   "source": [
    "# soal kedua"
   ]
  },
  {
   "cell_type": "code",
   "execution_count": 27,
   "id": "be6b4b98",
   "metadata": {},
   "outputs": [],
   "source": [
    "p3 = np.prod(bil2)\n",
    "p4 = np.prod(bil2**2)\n",
    "\n",
    "j3 = p3/p4\n",
    "j4 = 1/p3"
   ]
  },
  {
   "cell_type": "code",
   "execution_count": 28,
   "id": "3d619f00",
   "metadata": {},
   "outputs": [
    {
     "name": "stdout",
     "output_type": "stream",
     "text": [
      "jawaban 1 hasilnya adalah 0.041666666666666664 \n",
      "jawaban 2 hasilnya adalah 0.041666666666666664\n"
     ]
    }
   ],
   "source": [
    "print(f'jawaban 1 hasilnya adalah {j3} \\njawaban 2 hasilnya adalah {j4}')"
   ]
  },
  {
   "cell_type": "code",
   "execution_count": 30,
   "id": "d91e0f10",
   "metadata": {},
   "outputs": [
    {
     "data": {
      "text/plain": [
       "True"
      ]
     },
     "execution_count": 30,
     "metadata": {},
     "output_type": "execute_result"
    }
   ],
   "source": [
    "j3 == j4"
   ]
  },
  {
   "cell_type": "code",
   "execution_count": null,
   "id": "1c99f60e",
   "metadata": {},
   "outputs": [],
   "source": []
  }
 ],
 "metadata": {
  "kernelspec": {
   "display_name": "Python 3 (ipykernel)",
   "language": "python",
   "name": "python3"
  },
  "language_info": {
   "codemirror_mode": {
    "name": "ipython",
    "version": 3
   },
   "file_extension": ".py",
   "mimetype": "text/x-python",
   "name": "python",
   "nbconvert_exporter": "python",
   "pygments_lexer": "ipython3",
   "version": "3.9.5"
  }
 },
 "nbformat": 4,
 "nbformat_minor": 5
}
