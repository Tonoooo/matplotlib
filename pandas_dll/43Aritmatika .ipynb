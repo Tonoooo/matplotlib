{
 "cells": [
  {
   "cell_type": "markdown",
   "id": "96d7fe64",
   "metadata": {},
   "source": [
    "Jika tidak terdapat tanda kurung, urutan pengerjaan yang lebih dulu adalah tanda pangkat. Jika tidak ada tanda kurung dan pangkat, urutan pengerjaan yang lebih dulu adalah tanda kali.\n",
    "Dan kalau ada perkalian berderet dengan pembagian, maka harus dihitung dari kiri dulu. ... Karena penjumlahan setara dengan pengurangan, dan perkalian setara dengan pembagian"
   ]
  },
  {
   "cell_type": "code",
   "execution_count": 16,
   "id": "cec1e2b3",
   "metadata": {},
   "outputs": [
    {
     "name": "stdout",
     "output_type": "stream",
     "text": [
      "10\n",
      "10\n"
     ]
    }
   ],
   "source": [
    "# di python menggunkan spasi atau tidak python tetap bisa membacanya\n",
    "print(2   +  (4  -  2)  *   4) # spasi agar mudah dibaca\n",
    "print(2+(4-2)*4)"
   ]
  },
  {
   "cell_type": "code",
   "execution_count": 10,
   "id": "8cad4f2f",
   "metadata": {},
   "outputs": [],
   "source": [
    "# urutan aritmatika\n",
    "# 1. tanda kurung\n",
    "# 2. pangkat\n",
    "# 3. perkalian dan permbagian --> dihitungnya dari kiri dulu, bagi ataupun kali yang terpenting hitung dari kiri dulu\n",
    "# 4. penjumlahan dan pengurangan --> dihitungnya dari kiri dulu, tambah / kurang yang terpenting hitung dari kiri dulu"
   ]
  },
  {
   "cell_type": "code",
   "execution_count": 13,
   "id": "60e5b5f8",
   "metadata": {},
   "outputs": [
    {
     "name": "stdout",
     "output_type": "stream",
     "text": [
      "3\n",
      "7\n"
     ]
    }
   ],
   "source": [
    "print(5-5+3) # 4. penjumlahan dan pengurangan dihitungnya dari kiri dulu\n",
    "print(5+5-3) # 4. penjumlahan dan pengurangan dihitungnya dari kiri dulu"
   ]
  },
  {
   "cell_type": "code",
   "execution_count": 15,
   "id": "e18ad332",
   "metadata": {},
   "outputs": [
    {
     "name": "stdout",
     "output_type": "stream",
     "text": [
      "12.5\n",
      "15.0\n"
     ]
    }
   ],
   "source": [
    "print(5*5/2)# 3. perkalian dan permbagian --> dihitungnya dari kiri dulu\n",
    "print(6/2*5)# 3. perkalian dan permbagian --> dihitungnya dari kiri dulu"
   ]
  },
  {
   "cell_type": "markdown",
   "id": "3c9ec81f",
   "metadata": {},
   "source": [
    "# Menulis formula matematis di Python"
   ]
  },
  {
   "cell_type": "code",
   "execution_count": 17,
   "id": "e07b7f92",
   "metadata": {},
   "outputs": [],
   "source": [
    "from IPython.display import display, Math"
   ]
  },
  {
   "cell_type": "code",
   "execution_count": 18,
   "id": "d05f480c",
   "metadata": {},
   "outputs": [
    {
     "data": {
      "text/plain": [
       "'4 + 3 = 7'"
      ]
     },
     "metadata": {},
     "output_type": "display_data"
    }
   ],
   "source": [
    "display('4 + 3 = 7') # ini  tampilannya buruk"
   ]
  },
  {
   "cell_type": "code",
   "execution_count": 19,
   "id": "74ebabc9",
   "metadata": {},
   "outputs": [
    {
     "data": {
      "text/latex": [
       "$\\displaystyle 4 + 3 = 7$"
      ],
      "text/plain": [
       "<IPython.core.display.Math object>"
      ]
     },
     "metadata": {},
     "output_type": "display_data"
    }
   ],
   "source": [
    "display(Math('4 + 3 = 7')) # tapi kalo ini emezing, dengan ditambahkan Math, tampilannya jadi matematis"
   ]
  },
  {
   "cell_type": "code",
   "execution_count": 23,
   "id": "a9ec6dd0",
   "metadata": {},
   "outputs": [
    {
     "data": {
      "text/latex": [
       "$\\displaystyle 10 + 5 = 15$"
      ],
      "text/plain": [
       "<IPython.core.display.Math object>"
      ]
     },
     "metadata": {},
     "output_type": "display_data"
    }
   ],
   "source": [
    "# pake format string\n",
    "x = 10\n",
    "y = 5\n",
    "\n",
    "display(Math(f'{x} + {y} = {x+y}')) # tampilannya jadi matematis"
   ]
  },
  {
   "cell_type": "code",
   "execution_count": 24,
   "id": "770457d7",
   "metadata": {},
   "outputs": [
    {
     "data": {
      "text/latex": [
       "$\\displaystyle 10 + 5 = 15$"
      ],
      "text/plain": [
       "<IPython.core.display.Math object>"
      ]
     },
     "metadata": {},
     "output_type": "display_data"
    }
   ],
   "source": [
    "display(Math('{} + {} = {}'.format(x,y,x+y))) # sama saja seperti diatas tapi nulisnya beda"
   ]
  },
  {
   "cell_type": "code",
   "execution_count": 27,
   "id": "869a8af2",
   "metadata": {},
   "outputs": [
    {
     "data": {
      "text/latex": [
       "$\\displaystyle \\frac45=0.8$"
      ],
      "text/plain": [
       "<IPython.core.display.Math object>"
      ]
     },
     "metadata": {},
     "output_type": "display_data"
    }
   ],
   "source": [
    "# menampilkan pembagian\n",
    "display(Math(f'\\\\frac{4}{5}={4/5}')) # sles(\\) pertama untuk membaca \\frac, \\frac gunanya untuk simbol dibagi atau per, 4 pembilang, 5 penyebut"
   ]
  },
  {
   "cell_type": "code",
   "execution_count": 28,
   "id": "4c86f630",
   "metadata": {},
   "outputs": [
    {
     "data": {
      "text/latex": [
       "$\\displaystyle 10\\times5 = 50$"
      ],
      "text/plain": [
       "<IPython.core.display.Math object>"
      ]
     },
     "metadata": {},
     "output_type": "display_data"
    }
   ],
   "source": [
    "# menampilkan perkalian\n",
    "display(Math(f'{x}\\\\times{y} = {x*y}')) # sles(\\) pertama untuk membaca \\time, \\times = simbol kali"
   ]
  },
  {
   "cell_type": "code",
   "execution_count": 30,
   "id": "fd95da88",
   "metadata": {},
   "outputs": [],
   "source": [
    "# latihan"
   ]
  },
  {
   "cell_type": "code",
   "execution_count": 29,
   "id": "6bc4ca61",
   "metadata": {},
   "outputs": [],
   "source": [
    "# solusi pertama\n",
    "x = 5\n",
    "y = 10\n",
    "z = 2\n",
    "\n",
    "jawaban1 = 5*x*(5+y)"
   ]
  },
  {
   "cell_type": "code",
   "execution_count": 31,
   "id": "c5310e0f",
   "metadata": {},
   "outputs": [
    {
     "data": {
      "text/latex": [
       "$\\displaystyle 5x(5+y) = 375$"
      ],
      "text/plain": [
       "<IPython.core.display.Math object>"
      ]
     },
     "metadata": {},
     "output_type": "display_data"
    }
   ],
   "source": [
    "display(Math(f'5x(5+y) = {jawaban1}'))"
   ]
  },
  {
   "cell_type": "code",
   "execution_count": 32,
   "id": "89358ed7",
   "metadata": {},
   "outputs": [
    {
     "data": {
      "text/latex": [
       "$\\displaystyle -y-\\frac32 = -11.5$"
      ],
      "text/plain": [
       "<IPython.core.display.Math object>"
      ]
     },
     "metadata": {},
     "output_type": "display_data"
    }
   ],
   "source": [
    "# solusi kedua\n",
    "jawaban2 = -y-((x-2)/z)\n",
    "display(Math(f'-y-\\\\frac{x-2}{z} = {jawaban2}')) # \\frac gunanya untuk simbol dibagi atau per"
   ]
  },
  {
   "cell_type": "code",
   "execution_count": 33,
   "id": "c682979d",
   "metadata": {},
   "outputs": [
    {
     "data": {
      "text/latex": [
       "$\\displaystyle -y-\\frac{x-2}{z} = -11.5$"
      ],
      "text/plain": [
       "<IPython.core.display.Math object>"
      ]
     },
     "metadata": {},
     "output_type": "display_data"
    }
   ],
   "source": [
    "display(Math('-y-\\\\frac{x-2}{z} = %g' %jawaban2)) # kita ingin x-2 ditulis, kita gunakan cara python versi 2"
   ]
  },
  {
   "cell_type": "code",
   "execution_count": 35,
   "id": "1cc7f475",
   "metadata": {},
   "outputs": [
    {
     "name": "stdout",
     "output_type": "stream",
     "text": [
      "penulisan print formating versi lama coba 23 45.800000 67.987\n"
     ]
    }
   ],
   "source": [
    "print('penulisan print formating versi lama %s %d %f %g' %('coba',23,45.8,67.987))\n",
    "# %s = untuk string\n",
    "# %d = untuk digit/intiger\n",
    "# %f = float\n",
    "# %g = float yang dibulatkan, jadi dibelakang komanya tidak banyak"
   ]
  },
  {
   "cell_type": "markdown",
   "id": "d2856c06",
   "metadata": {},
   "source": [
    "# Pangkat (power)"
   ]
  },
  {
   "cell_type": "code",
   "execution_count": 1,
   "id": "babbe6c2",
   "metadata": {},
   "outputs": [],
   "source": [
    "# urutan aritmatika\n",
    "# 1. tanda kurung  ()\n",
    "# 2. pangkat  **\n",
    "# 3. perkalian dan permbagian */ --> dihitungnya dari kiri dulu, bagi ataupun kali yang terpenting hitung dari kiri dulu\n",
    "# 4. penjumlahan dan pengurangan  -+ --> dihitungnya dari kiri dulu, tambah / kurang yang terpenting hitung dari kiri dulu"
   ]
  },
  {
   "cell_type": "code",
   "execution_count": 2,
   "id": "e83a24ec",
   "metadata": {},
   "outputs": [],
   "source": [
    "from IPython.display import display, Math"
   ]
  },
  {
   "cell_type": "code",
   "execution_count": 3,
   "id": "641642ad",
   "metadata": {},
   "outputs": [
    {
     "data": {
      "text/latex": [
       "$\\displaystyle 3^2 = 9$"
      ],
      "text/plain": [
       "<IPython.core.display.Math object>"
      ]
     },
     "metadata": {},
     "output_type": "display_data"
    }
   ],
   "source": [
    "# menulis pangkat ^\n",
    "display(Math(f'3^2 = {3**2}'))"
   ]
  },
  {
   "cell_type": "code",
   "execution_count": 5,
   "id": "b71536be",
   "metadata": {},
   "outputs": [
    {
     "data": {
      "text/latex": [
       "$\\displaystyle 3^2 \\times 3^5 = 3^7$"
      ],
      "text/plain": [
       "<IPython.core.display.Math object>"
      ]
     },
     "metadata": {},
     "output_type": "display_data"
    }
   ],
   "source": [
    "display(Math(f'3^2 \\\\times 3^5 = 3^7')) # angkanya sama jadi pangkatnya saja ditambahkan.\\times = simbol kali"
   ]
  },
  {
   "cell_type": "code",
   "execution_count": 6,
   "id": "b2c8b7e0",
   "metadata": {},
   "outputs": [],
   "source": [
    "# latihan"
   ]
  },
  {
   "cell_type": "code",
   "execution_count": 7,
   "id": "5194025d",
   "metadata": {},
   "outputs": [],
   "source": [
    "x = 5\n",
    "y = 5.1\n",
    "\n",
    "j1 = x**(3/4)*4**y\n",
    "j2 = 3**3/x**y\n",
    "j3 = 10**(x-4)"
   ]
  },
  {
   "cell_type": "code",
   "execution_count": 8,
   "id": "4f634c10",
   "metadata": {},
   "outputs": [
    {
     "name": "stdout",
     "output_type": "stream",
     "text": [
      "3933.086147822751\n",
      "0.007355576930579584\n",
      "10\n"
     ]
    }
   ],
   "source": [
    "print(j1)\n",
    "print(j2)\n",
    "print(j3)"
   ]
  },
  {
   "cell_type": "code",
   "execution_count": 11,
   "id": "fd93f6cf",
   "metadata": {},
   "outputs": [
    {
     "data": {
      "text/latex": [
       "$\\displaystyle x^{3/4} \\times 4^y = 3933.09$"
      ],
      "text/plain": [
       "<IPython.core.display.Math object>"
      ]
     },
     "metadata": {},
     "output_type": "display_data"
    }
   ],
   "source": [
    "## soal pertama\n",
    "display(Math('x^{3/4} \\\\times 4^y = %g' %j1)) \n",
    "# pake kurunggurawal{} agar 3/4 ditampilkan\n",
    "# \\times = simbol kali, sles \\ pertama untuk agar pythonnya membaca \\times\n",
    "# ^ = simbol pangkat\n",
    "# %g = float yang dibulatkan, jadi dibelakang komanya tidak banyak\n",
    "# %j1 = untuk agar si %g nya diisi sama si variabel j1"
   ]
  },
  {
   "cell_type": "code",
   "execution_count": 12,
   "id": "e00c3055",
   "metadata": {},
   "outputs": [
    {
     "data": {
      "text/latex": [
       "$\\displaystyle \\frac{3^3}{x^y} = 0.00735558$"
      ],
      "text/plain": [
       "<IPython.core.display.Math object>"
      ]
     },
     "metadata": {},
     "output_type": "display_data"
    }
   ],
   "source": [
    "# soal kedua\n",
    "display(Math('\\\\frac{3^3}{x^y} = %g' %j2))\n",
    "# \\frac gunanya untuk simbol dibagi atau per,{} pertama unutk pembilang, {} kedua untuk penyebut"
   ]
  },
  {
   "cell_type": "code",
   "execution_count": 13,
   "id": "0382a0fa",
   "metadata": {},
   "outputs": [
    {
     "data": {
      "text/latex": [
       "$\\displaystyle 10^{x-4} = 10$"
      ],
      "text/plain": [
       "<IPython.core.display.Math object>"
      ]
     },
     "metadata": {},
     "output_type": "display_data"
    }
   ],
   "source": [
    "# soal ketiga\n",
    "display(Math('10^{x-4} = %g' %j3))"
   ]
  },
  {
   "cell_type": "code",
   "execution_count": null,
   "id": "3539c456",
   "metadata": {},
   "outputs": [],
   "source": []
  }
 ],
 "metadata": {
  "kernelspec": {
   "display_name": "Python 3 (ipykernel)",
   "language": "python",
   "name": "python3"
  },
  "language_info": {
   "codemirror_mode": {
    "name": "ipython",
    "version": 3
   },
   "file_extension": ".py",
   "mimetype": "text/x-python",
   "name": "python",
   "nbconvert_exporter": "python",
   "pygments_lexer": "ipython3",
   "version": "3.9.5"
  }
 },
 "nbformat": 4,
 "nbformat_minor": 5
}
