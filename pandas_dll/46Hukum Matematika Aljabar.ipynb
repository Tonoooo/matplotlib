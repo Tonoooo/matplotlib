{
 "cells": [
  {
   "cell_type": "code",
   "execution_count": 1,
   "id": "e5b85755",
   "metadata": {},
   "outputs": [],
   "source": [
    "import sympy as sym\n",
    "from IPython.display import Math"
   ]
  },
  {
   "cell_type": "markdown",
   "id": "9a8f5a40",
   "metadata": {},
   "source": [
    "# sifat sifat eksponen harus tau dulu"
   ]
  },
  {
   "cell_type": "code",
   "execution_count": 2,
   "id": "c45f123a",
   "metadata": {},
   "outputs": [],
   "source": [
    "x,y,z = sym.symbols('x y z')"
   ]
  },
  {
   "cell_type": "code",
   "execution_count": 3,
   "id": "83163a24",
   "metadata": {},
   "outputs": [],
   "source": [
    "p1 = (x**y) * (x**z) # terserah mau pake kurung / gak, kurung agar mudah dipahami saja"
   ]
  },
  {
   "cell_type": "code",
   "execution_count": 4,
   "id": "4ce3e112",
   "metadata": {},
   "outputs": [
    {
     "data": {
      "text/latex": [
       "$\\displaystyle x^{y} x^{z}$"
      ],
      "text/plain": [
       "x**y*x**z"
      ]
     },
     "metadata": {},
     "output_type": "display_data"
    }
   ],
   "source": [
    "display(p1)"
   ]
  },
  {
   "cell_type": "code",
   "execution_count": 5,
   "id": "f7285e63",
   "metadata": {},
   "outputs": [
    {
     "data": {
      "text/latex": [
       "$\\displaystyle x^{y + z}$"
      ],
      "text/plain": [
       "x**(y + z)"
      ]
     },
     "metadata": {},
     "output_type": "display_data"
    }
   ],
   "source": [
    "display(sym.simplify(p1)) # simplify artinya menyerdehanakan\n",
    "# karna bilangan pokoknya sama jadi tinggal pangkatnya saja yang ditambah"
   ]
  },
  {
   "cell_type": "code",
   "execution_count": 6,
   "id": "19b570f6",
   "metadata": {},
   "outputs": [
    {
     "data": {
      "text/latex": [
       "$\\displaystyle x^{y} x^{- z}$"
      ],
      "text/plain": [
       "x**y*x**(-z)"
      ]
     },
     "metadata": {},
     "output_type": "display_data"
    },
    {
     "data": {
      "text/latex": [
       "$\\displaystyle x^{y - z}$"
      ],
      "text/plain": [
       "x**(y - z)"
      ]
     },
     "metadata": {},
     "output_type": "display_data"
    }
   ],
   "source": [
    "p2 = x**y / x**z\n",
    "display(p2) \n",
    "display(sym.simplify(p2))\n",
    "# -z karna yang tadinya penyebut mejadi tidak. pake sifat sifat eksponen"
   ]
  },
  {
   "cell_type": "code",
   "execution_count": 7,
   "id": "c9b86080",
   "metadata": {},
   "outputs": [
    {
     "data": {
      "text/latex": [
       "$\\displaystyle x^{y} y^{z}$"
      ],
      "text/plain": [
       "x**y*y**z"
      ]
     },
     "metadata": {},
     "output_type": "display_data"
    },
    {
     "data": {
      "text/latex": [
       "$\\displaystyle x^{y} y^{z}$"
      ],
      "text/plain": [
       "x**y*y**z"
      ]
     },
     "metadata": {},
     "output_type": "display_data"
    }
   ],
   "source": [
    "p3 = x**y * y**z\n",
    "display(p3)\n",
    "display(sym.simplify(p3)) # tidak bisa disatukan"
   ]
  },
  {
   "cell_type": "markdown",
   "id": "c5efe379",
   "metadata": {},
   "source": [
    "# mejabarkan persamaan aljabar dipython dengan expand"
   ]
  },
  {
   "cell_type": "code",
   "execution_count": 8,
   "id": "b17c3a79",
   "metadata": {},
   "outputs": [],
   "source": [
    "# a(b+c) = ab + ac\n",
    "# (a + b)(c + d) = ac + ad + bc +bd\n",
    "# (a-b)(-c+b) = -ac + ad + bc -bd"
   ]
  },
  {
   "cell_type": "code",
   "execution_count": null,
   "id": "cbb2f256",
   "metadata": {},
   "outputs": [],
   "source": [
    "# menyederhanakan persamaan aljabar sesimple mungkin"
   ]
  },
  {
   "cell_type": "code",
   "execution_count": 9,
   "id": "f418bcce",
   "metadata": {},
   "outputs": [],
   "source": [
    "pp1 = x*(x+1)\n",
    "pp2 = x"
   ]
  },
  {
   "cell_type": "code",
   "execution_count": 10,
   "id": "e20fe86a",
   "metadata": {},
   "outputs": [
    {
     "data": {
      "text/latex": [
       "$\\displaystyle x^{2} \\left(x + 1\\right)$"
      ],
      "text/plain": [
       "x**2*(x + 1)"
      ]
     },
     "metadata": {},
     "output_type": "display_data"
    }
   ],
   "source": [
    "display(pp1 * pp2)"
   ]
  },
  {
   "cell_type": "code",
   "execution_count": null,
   "id": "ce42a2de",
   "metadata": {},
   "outputs": [],
   "source": [
    "# expand(), kita dapat memperluas ekspresi matematika dalam bentuk variabel dengan menggunakan sympy.\n",
    "# expand() metode -> Return : Mengembalikan ekspresi matematika.\n",
    "# expand(), menjabarkan\n",
    "# seperti diperluas jawabannya kan dijabarkan "
   ]
  },
  {
   "cell_type": "code",
   "execution_count": 11,
   "id": "50aebaa9",
   "metadata": {},
   "outputs": [
    {
     "data": {
      "text/latex": [
       "$\\displaystyle x^{3} + x^{2}$"
      ],
      "text/plain": [
       "x**3 + x**2"
      ]
     },
     "metadata": {},
     "output_type": "display_data"
    }
   ],
   "source": [
    "display(sym.expand(pp1 * pp2)) # dijabarkan/mengkalikan nya perelement"
   ]
  },
  {
   "cell_type": "code",
   "execution_count": 12,
   "id": "10374fbf",
   "metadata": {},
   "outputs": [],
   "source": [
    "pp3 = y**12 + x**8"
   ]
  },
  {
   "cell_type": "code",
   "execution_count": 13,
   "id": "14fa2f57",
   "metadata": {},
   "outputs": [
    {
     "data": {
      "text/latex": [
       "$\\displaystyle x^{2} \\left(x + 1\\right) \\left(x^{8} + y^{12}\\right)$"
      ],
      "text/plain": [
       "x**2*(x + 1)*(x**8 + y**12)"
      ]
     },
     "metadata": {},
     "output_type": "display_data"
    }
   ],
   "source": [
    "display(pp1 * pp2 * pp3) # dikali nya masih satupersatu"
   ]
  },
  {
   "cell_type": "code",
   "execution_count": 14,
   "id": "edb969b2",
   "metadata": {},
   "outputs": [
    {
     "data": {
      "text/latex": [
       "$\\displaystyle x^{11} + x^{10} + x^{3} y^{12} + x^{2} y^{12}$"
      ],
      "text/plain": [
       "x**11 + x**10 + x**3*y**12 + x**2*y**12"
      ]
     },
     "metadata": {},
     "output_type": "display_data"
    }
   ],
   "source": [
    "# mengkalikan nya perelement\n",
    "display(sym.expand(pp1 * pp2 * pp3)) # jadi dijabarkan"
   ]
  },
  {
   "cell_type": "code",
   "execution_count": 16,
   "id": "bd8cce58",
   "metadata": {},
   "outputs": [
    {
     "data": {
      "text/latex": [
       "$\\displaystyle \\sqrt{y}$"
      ],
      "text/plain": [
       "sqrt(y)"
      ]
     },
     "metadata": {},
     "output_type": "display_data"
    }
   ],
   "source": [
    "pp4 = sym.sqrt(y) #diakar\n",
    "display(pp4)"
   ]
  },
  {
   "cell_type": "code",
   "execution_count": 19,
   "id": "65ad2241",
   "metadata": {},
   "outputs": [
    {
     "data": {
      "text/latex": [
       "$\\displaystyle \\frac{x^{2} \\left(x + 1\\right) \\left(x^{8} + y^{12}\\right)}{\\sqrt{y}}$"
      ],
      "text/plain": [
       "x**2*(x + 1)*(x**8 + y**12)/sqrt(y)"
      ]
     },
     "metadata": {},
     "output_type": "display_data"
    }
   ],
   "source": [
    "display((pp1 * pp2 * pp3)/pp4)"
   ]
  },
  {
   "cell_type": "code",
   "execution_count": 18,
   "id": "9d64a1c3",
   "metadata": {},
   "outputs": [
    {
     "data": {
      "text/latex": [
       "$\\displaystyle \\frac{x^{11}}{\\sqrt{y}} + \\frac{x^{10}}{\\sqrt{y}} + x^{3} y^{\\frac{23}{2}} + x^{2} y^{\\frac{23}{2}}$"
      ],
      "text/plain": [
       "x**11/sqrt(y) + x**10/sqrt(y) + x**3*y**(23/2) + x**2*y**(23/2)"
      ]
     },
     "metadata": {},
     "output_type": "display_data"
    }
   ],
   "source": [
    "display(sym.expand((pp1 * pp2 * pp3)/pp4))"
   ]
  },
  {
   "cell_type": "code",
   "execution_count": 20,
   "id": "875dbe2e",
   "metadata": {},
   "outputs": [
    {
     "name": "stdout",
     "output_type": "stream",
     "text": [
      "Variable   Type      Data/Info\n",
      "------------------------------\n",
      "Math       type      <class 'IPython.core.display.Math'>\n",
      "p1         Mul       x**y*x**z\n",
      "p2         Mul       x**y*x**(-z)\n",
      "p3         Mul       x**y*y**z\n",
      "pp1        Mul       x*(x + 1)\n",
      "pp2        Symbol    x\n",
      "pp3        Add       x**8 + y**12\n",
      "pp4        Pow       sqrt(y)\n",
      "sym        module    <module 'sympy' from 'c:\\<...>ges\\\\sympy\\\\__init__.py'>\n",
      "x          Symbol    x\n",
      "y          Symbol    y\n",
      "z          Symbol    z\n"
     ]
    }
   ],
   "source": [
    "%whos # untuk menampilkan variabel yang kita punya"
   ]
  },
  {
   "cell_type": "markdown",
   "id": "d90c7adb",
   "metadata": {},
   "source": [
    "# 3 hukum aljabar"
   ]
  },
  {
   "cell_type": "code",
   "execution_count": 21,
   "id": "ef94808f",
   "metadata": {},
   "outputs": [],
   "source": [
    "#hukum asosiatif, komukatif, distributif"
   ]
  },
  {
   "cell_type": "code",
   "execution_count": null,
   "id": "2690ba8a",
   "metadata": {},
   "outputs": [],
   "source": [
    "# hukum asosiatif\n",
    "# a(bc) = (ab)c  #sama saja\n",
    "# abc = abc   #sama saja\n",
    "# contoh:\n",
    "# 2(5x6) = (2x5)6\n",
    "# 2(30)  = (10)6\n",
    "# 60     = 60     # hasilnya sama saja"
   ]
  },
  {
   "cell_type": "code",
   "execution_count": null,
   "id": "32016d27",
   "metadata": {},
   "outputs": [],
   "source": [
    "# hukum komunikatif\n",
    "# ab = ba  # sama saja\n",
    "# abc = acb = bac\n",
    "#  contoh:\n",
    "# 2x6 =(Sama saja) 6x2 = 16 # sama saja hasilnya tetep 16\n",
    "# 1x2x3 =(Sama saja) 3x2x1 =(Sama saja) 2x3x1 = 6  # sama saja hasilnya tetep 6"
   ]
  },
  {
   "cell_type": "code",
   "execution_count": null,
   "id": "e93e7ad7",
   "metadata": {},
   "outputs": [],
   "source": [
    "# hukum distributif\n",
    "# x(y+z) = xy + xz\n",
    "#  contoh:\n",
    "# 2(6+3) = 2x6 + 2x3\n",
    "# 2(9)   = 12+6\n",
    "#  18    =  18  # hasilnya tetep sama saja 18"
   ]
  },
  {
   "cell_type": "code",
   "execution_count": null,
   "id": "2b7c938a",
   "metadata": {},
   "outputs": [],
   "source": []
  },
  {
   "cell_type": "code",
   "execution_count": 22,
   "id": "94ce2d3e",
   "metadata": {},
   "outputs": [],
   "source": [
    "a1 = (5*(x*y))\n",
    "a2 = (5*x)*y"
   ]
  },
  {
   "cell_type": "code",
   "execution_count": 23,
   "id": "915a286b",
   "metadata": {},
   "outputs": [
    {
     "data": {
      "text/latex": [
       "$\\displaystyle 0$"
      ],
      "text/plain": [
       "0"
      ]
     },
     "execution_count": 23,
     "metadata": {},
     "output_type": "execute_result"
    }
   ],
   "source": [
    "a1 - a2 # keduanya sama saja jadi hasilnya 0"
   ]
  },
  {
   "cell_type": "code",
   "execution_count": 25,
   "id": "7d94eda0",
   "metadata": {},
   "outputs": [
    {
     "data": {
      "text/latex": [
       "$\\displaystyle 5 x y$"
      ],
      "text/plain": [
       "5*x*y"
      ]
     },
     "metadata": {},
     "output_type": "display_data"
    },
    {
     "data": {
      "text/latex": [
       "$\\displaystyle 5 x y$"
      ],
      "text/plain": [
       "5*x*y"
      ]
     },
     "metadata": {},
     "output_type": "display_data"
    }
   ],
   "source": [
    "display(a1)\n",
    "display(a2)"
   ]
  },
  {
   "cell_type": "code",
   "execution_count": 26,
   "id": "a3107450",
   "metadata": {},
   "outputs": [
    {
     "name": "stdout",
     "output_type": "stream",
     "text": [
      "200\n",
      "200\n"
     ]
    }
   ],
   "source": [
    "print(a1.subs({x:5,y:8})) # subs seperti memberi nilai\n",
    "print(a2.subs({x:5,y:8})) # pake dictionary{} karna yang dimasukkan nya lebih dari satu "
   ]
  },
  {
   "cell_type": "code",
   "execution_count": 29,
   "id": "4bb54fa4",
   "metadata": {},
   "outputs": [
    {
     "name": "stdout",
     "output_type": "stream",
     "text": [
      "x\n",
      "y\n"
     ]
    }
   ],
   "source": [
    "print(x)\n",
    "print(y)"
   ]
  },
  {
   "cell_type": "code",
   "execution_count": 30,
   "id": "cde4e64e",
   "metadata": {},
   "outputs": [],
   "source": []
  },
  {
   "cell_type": "code",
   "execution_count": 31,
   "id": "5b4b1977",
   "metadata": {},
   "outputs": [],
   "source": [
    "a = sym.symbols('a')"
   ]
  },
  {
   "cell_type": "code",
   "execution_count": 42,
   "id": "20bf139b",
   "metadata": {},
   "outputs": [],
   "source": [
    "d = a*(67-a) + 1/a**2 + (16+a)"
   ]
  },
  {
   "cell_type": "code",
   "execution_count": 43,
   "id": "bdd6afde",
   "metadata": {},
   "outputs": [
    {
     "data": {
      "text/latex": [
       "$\\displaystyle a \\left(67 - a\\right) + a + 16 + \\frac{1}{a^{2}}$"
      ],
      "text/plain": [
       "a*(67 - a) + a + 16 + a**(-2)"
      ]
     },
     "metadata": {},
     "output_type": "display_data"
    }
   ],
   "source": [
    "display(d)"
   ]
  },
  {
   "cell_type": "code",
   "execution_count": 44,
   "id": "ad55c9ec",
   "metadata": {},
   "outputs": [],
   "source": [
    "a3 = d*(y+z)\n",
    "a4 = 3/d + d**2"
   ]
  },
  {
   "cell_type": "code",
   "execution_count": 47,
   "id": "7619adfd",
   "metadata": {},
   "outputs": [
    {
     "data": {
      "text/latex": [
       "$\\displaystyle \\left(y + z\\right) \\left(a \\left(67 - a\\right) + a + 16 + \\frac{1}{a^{2}}\\right)$"
      ],
      "text/plain": [
       "(y + z)*(a*(67 - a) + a + 16 + a**(-2))"
      ]
     },
     "metadata": {},
     "output_type": "display_data"
    },
    {
     "data": {
      "text/latex": [
       "$\\displaystyle \\left(a \\left(67 - a\\right) + a + 16 + \\frac{1}{a^{2}}\\right)^{2} + \\frac{3}{a \\left(67 - a\\right) + a + 16 + \\frac{1}{a^{2}}}$"
      ],
      "text/plain": [
       "(a*(67 - a) + a + 16 + a**(-2))**2 + 3/(a*(67 - a) + a + 16 + a**(-2))"
      ]
     },
     "metadata": {},
     "output_type": "display_data"
    }
   ],
   "source": [
    "display(a3)\n",
    "display(a4)"
   ]
  },
  {
   "cell_type": "code",
   "execution_count": 48,
   "id": "9b364670",
   "metadata": {},
   "outputs": [
    {
     "data": {
      "text/latex": [
       "$\\displaystyle \\left(y + z\\right) \\left(\\left(a \\left(67 - a\\right) + a + 16 + \\frac{1}{a^{2}}\\right)^{2} + \\frac{3}{a \\left(67 - a\\right) + a + 16 + \\frac{1}{a^{2}}}\\right) \\left(a \\left(67 - a\\right) + a + 16 + \\frac{1}{a^{2}}\\right)$"
      ],
      "text/plain": [
       "(y + z)*((a*(67 - a) + a + 16 + a**(-2))**2 + 3/(a*(67 - a) + a + 16 + a**(-2)))*(a*(67 - a) + a + 16 + a**(-2))"
      ]
     },
     "metadata": {},
     "output_type": "display_data"
    }
   ],
   "source": [
    "display(a3*a4)"
   ]
  },
  {
   "cell_type": "code",
   "execution_count": 49,
   "id": "01320ea9",
   "metadata": {},
   "outputs": [
    {
     "data": {
      "text/latex": [
       "$\\displaystyle - a^{6} y - a^{6} z + 204 a^{5} y + 204 a^{5} z - 13824 a^{4} y - 13824 a^{4} z + 307904 a^{3} y + 307904 a^{3} z + 221187 a^{2} y - \\frac{3 a^{2} y}{- a^{2} + 68 a + 16 + \\frac{1}{a^{2}}} + 221187 a^{2} z - \\frac{3 a^{2} z}{- a^{2} + 68 a + 16 + \\frac{1}{a^{2}}} + 51816 a y + \\frac{204 a y}{- a^{2} + 68 a + 16 + \\frac{1}{a^{2}}} + 51816 a z + \\frac{204 a z}{- a^{2} + 68 a + 16 + \\frac{1}{a^{2}}} + 17872 y + \\frac{3 y}{- a^{4} + 68 a^{3} + 16 a^{2} + 1} + \\frac{48 y}{- a^{2} + 68 a + 16 + \\frac{1}{a^{2}}} + 17872 z + \\frac{3 z}{- a^{4} + 68 a^{3} + 16 a^{2} + 1} + \\frac{48 z}{- a^{2} + 68 a + 16 + \\frac{1}{a^{2}}} + \\frac{6528 y}{a} + \\frac{6528 z}{a} + \\frac{765 y}{a^{2}} + \\frac{765 z}{a^{2}} + \\frac{204 y}{a^{3}} + \\frac{204 z}{a^{3}} + \\frac{48 y}{a^{4}} + \\frac{48 z}{a^{4}} + \\frac{y}{a^{6}} + \\frac{z}{a^{6}}$"
      ],
      "text/plain": [
       "-a**6*y - a**6*z + 204*a**5*y + 204*a**5*z - 13824*a**4*y - 13824*a**4*z + 307904*a**3*y + 307904*a**3*z + 221187*a**2*y - 3*a**2*y/(-a**2 + 68*a + 16 + a**(-2)) + 221187*a**2*z - 3*a**2*z/(-a**2 + 68*a + 16 + a**(-2)) + 51816*a*y + 204*a*y/(-a**2 + 68*a + 16 + a**(-2)) + 51816*a*z + 204*a*z/(-a**2 + 68*a + 16 + a**(-2)) + 17872*y + 3*y/(-a**4 + 68*a**3 + 16*a**2 + 1) + 48*y/(-a**2 + 68*a + 16 + a**(-2)) + 17872*z + 3*z/(-a**4 + 68*a**3 + 16*a**2 + 1) + 48*z/(-a**2 + 68*a + 16 + a**(-2)) + 6528*y/a + 6528*z/a + 765*y/a**2 + 765*z/a**2 + 204*y/a**3 + 204*z/a**3 + 48*y/a**4 + 48*z/a**4 + y/a**6 + z/a**6"
      ]
     },
     "metadata": {},
     "output_type": "display_data"
    }
   ],
   "source": [
    "display(sym.expand(a3*a4)) # disini kita ingin menjabarkan dengan menggunakan expand"
   ]
  },
  {
   "cell_type": "code",
   "execution_count": 50,
   "id": "02feaf05",
   "metadata": {},
   "outputs": [
    {
     "data": {
      "text/latex": [
       "$\\displaystyle 0$"
      ],
      "text/plain": [
       "0"
      ]
     },
     "metadata": {},
     "output_type": "display_data"
    }
   ],
   "source": [
    "display(a3*a4 - a4*a3)"
   ]
  },
  {
   "cell_type": "code",
   "execution_count": null,
   "id": "dc7aea38",
   "metadata": {},
   "outputs": [],
   "source": []
  }
 ],
 "metadata": {
  "kernelspec": {
   "display_name": "Python 3 (ipykernel)",
   "language": "python",
   "name": "python3"
  },
  "language_info": {
   "codemirror_mode": {
    "name": "ipython",
    "version": 3
   },
   "file_extension": ".py",
   "mimetype": "text/x-python",
   "name": "python",
   "nbconvert_exporter": "python",
   "pygments_lexer": "ipython3",
   "version": "3.9.5"
  }
 },
 "nbformat": 4,
 "nbformat_minor": 5
}
