{
 "cells": [
  {
   "cell_type": "code",
   "execution_count": 1,
   "id": "6a9aa24d",
   "metadata": {},
   "outputs": [
    {
     "name": "stdout",
     "output_type": "stream",
     "text": [
      "masukkan angka:fag\n"
     ]
    },
    {
     "ename": "ValueError",
     "evalue": "invalid literal for int() with base 10: 'fag'",
     "output_type": "error",
     "traceback": [
      "\u001b[1;31m---------------------------------------------------------------------------\u001b[0m",
      "\u001b[1;31mValueError\u001b[0m                                Traceback (most recent call last)",
      "\u001b[1;32m~\\AppData\\Local\\Temp/ipykernel_5380/1570243016.py\u001b[0m in \u001b[0;36m<module>\u001b[1;34m\u001b[0m\n\u001b[1;32m----> 1\u001b[1;33m \u001b[0mprint\u001b[0m\u001b[1;33m(\u001b[0m\u001b[0mint\u001b[0m\u001b[1;33m(\u001b[0m\u001b[0minput\u001b[0m\u001b[1;33m(\u001b[0m\u001b[1;34m'masukkan angka:'\u001b[0m\u001b[1;33m)\u001b[0m\u001b[1;33m)\u001b[0m\u001b[1;33m)\u001b[0m \u001b[1;31m# coba masukkan string dan lihat error yg terjadi\u001b[0m\u001b[1;33m\u001b[0m\u001b[1;33m\u001b[0m\u001b[0m\n\u001b[0m",
      "\u001b[1;31mValueError\u001b[0m: invalid literal for int() with base 10: 'fag'"
     ]
    }
   ],
   "source": [
    "print(int(input('masukkan angka:'))) # coba masukkan string dan lihat error yg terjadi"
   ]
  },
  {
   "cell_type": "markdown",
   "id": "47377092",
   "metadata": {},
   "source": [
    "# Error handling dengan try and except"
   ]
  },
  {
   "cell_type": "code",
   "execution_count": 3,
   "id": "e528dda0",
   "metadata": {},
   "outputs": [
    {
     "name": "stdout",
     "output_type": "stream",
     "text": [
      "masukkan angka:gdhjt\n",
      "masukkan angka yang benar\n"
     ]
    }
   ],
   "source": [
    "try:\n",
    "    print(int(input('masukkan angka:'))) # jika dimasukkan string seharusnya error tapi karna \n",
    "except:                                  # ada axcept maka except yang dieksekusi\n",
    "    print(\"masukkan angka yang benar\") "
   ]
  },
  {
   "cell_type": "markdown",
   "id": "41a78263",
   "metadata": {},
   "source": [
    "# Error handling dengan try except dan while loop else"
   ]
  },
  {
   "cell_type": "code",
   "execution_count": 6,
   "id": "aefd2930",
   "metadata": {},
   "outputs": [
    {
     "name": "stdout",
     "output_type": "stream",
     "text": [
      "masukkan angka:hdhy\n",
      "masukkan angka yang benar\n",
      "masukkan angka:ghhjj\n",
      "masukkan angka yang benar\n",
      "masukkan angka:100\n",
      "100\n",
      "terimakasih sudah masukkan angka yang benar\n"
     ]
    }
   ],
   "source": [
    "while True:\n",
    "    try:\n",
    "        print(int(input('masukkan angka:'))) \n",
    "    except:                                  \n",
    "        print(\"masukkan angka yang benar\")\n",
    "    else:\n",
    "        print(\"terimakasih sudah masukkan angka yang benar\")\n",
    "        break\n",
    "    # jika dimasukkan string, except akan dieksekusi dan diulang terus sampai benar masukkan angka\n",
    "    # jika dimasukkan angka maka setelah itu else dieksekusi lalu break\n",
    "    # kenapa ada else?, karna jika benar kita ingin ngeprint sesuatu dan kaarna jika benart except \n",
    "    # tidak berjalan nah dari itu kita pake else agar mengprint sesuatu"
   ]
  },
  {
   "cell_type": "code",
   "execution_count": 8,
   "id": "8e8ce2b8",
   "metadata": {},
   "outputs": [
    {
     "name": "stdout",
     "output_type": "stream",
     "text": [
      "masukkan angka:hfjys\n",
      "tolong masukkan angka jangan huruf\n",
      "masukkan angka:0\n",
      "masukkan angka lebih dari 0\n",
      "masukkan angka:10\n",
      "2.0\n",
      "terimakasih sudah masukkan angka yang benar\n"
     ]
    }
   ],
   "source": [
    "while True:\n",
    "    try:\n",
    "        angka = int(input('masukkan angka:'))\n",
    "        print(20/angka)\n",
    "    except ZeroDivisionError: # karna 0 tdk bisa dibagi maka akan error, untuk menangani error 0 maka gunakan ini\n",
    "        print(\"masukkan angka lebih dari 0\")\n",
    "    except ValueError: # jika dimasukkan string maka akan error, untuk menangani error tersebut gunakan ini\n",
    "        print(\"tolong masukkan angka jangan huruf\")\n",
    "    else:\n",
    "        print(\"terimakasih sudah masukkan angka yang benar\")\n",
    "        break"
   ]
  },
  {
   "cell_type": "markdown",
   "id": "56c765e9",
   "metadata": {},
   "source": [
    "# error hendling di fungsi"
   ]
  },
  {
   "cell_type": "code",
   "execution_count": 5,
   "id": "f2d99fda",
   "metadata": {},
   "outputs": [],
   "source": [
    "def hitung(a1,a2):\n",
    "    \n",
    "    while True:\n",
    "        try:\n",
    "            a1 + a2 # jika ada error disini maka akan ke except lanjut kewhile loop\n",
    "        except:\n",
    "            while True:\n",
    "                try:\n",
    "                    a1 = int(input('masukkanlah nilai pertama berupa angka:'))\n",
    "                    a2 = int(input('masukkanlah nilai kedua berupa angka:'))\n",
    "                except:\n",
    "                    print('masukkan angka jangan karakter')\n",
    "                else:\n",
    "                    break\n",
    "        else:\n",
    "            print(a1+a2)\n",
    "            print(\"selamat berhasil\")\n",
    "            break"
   ]
  },
  {
   "cell_type": "code",
   "execution_count": 6,
   "id": "84abf537",
   "metadata": {},
   "outputs": [
    {
     "name": "stdout",
     "output_type": "stream",
     "text": [
      "masukkanlah nilai pertama berupa angka:hgdtn\n",
      "masukkan angka jangan karakter\n",
      "masukkanlah nilai pertama berupa angka:1\n",
      "masukkanlah nilai kedua berupa angka:fgahr\n",
      "masukkan angka jangan karakter\n",
      "masukkanlah nilai pertama berupa angka:1\n",
      "masukkanlah nilai kedua berupa angka:150\n",
      "151\n",
      "selamat berhasil\n"
     ]
    }
   ],
   "source": [
    "hitung(1,'f')"
   ]
  },
  {
   "cell_type": "markdown",
   "id": "beb51782",
   "metadata": {},
   "source": [
    "-- finally"
   ]
  },
  {
   "cell_type": "code",
   "execution_count": 7,
   "id": "72cff874",
   "metadata": {},
   "outputs": [],
   "source": [
    "def hitung(a1,a2):\n",
    "    \n",
    "    while True:\n",
    "        try:\n",
    "            a1 + a2 # jika ada error disini maka akan ke except lanjut kewhile loop\n",
    "        except:\n",
    "            while True:\n",
    "                try:\n",
    "                    a1 = int(input('masukkanlah nilai pertama berupa angka:'))\n",
    "                    a2 = int(input('masukkanlah nilai kedua berupa angka:'))\n",
    "                except:\n",
    "                    print('masukkan angka jangan karakter')\n",
    "                else:\n",
    "                    break\n",
    "        else:\n",
    "            print(a1+a2)\n",
    "            print(\"selamat berhasil\")\n",
    "            break\n",
    "        finally: # finally akan selalu dijalankan\n",
    "            print(\"finally fungsinya untuk memberi keterangan\")"
   ]
  },
  {
   "cell_type": "code",
   "execution_count": 8,
   "id": "fc370f99",
   "metadata": {},
   "outputs": [
    {
     "name": "stdout",
     "output_type": "stream",
     "text": [
      "30\n",
      "selamat berhasil\n",
      "finally akan selalu dijalankan\n"
     ]
    }
   ],
   "source": [
    "hitung(10,20)"
   ]
  },
  {
   "cell_type": "code",
   "execution_count": 9,
   "id": "3aea576f",
   "metadata": {},
   "outputs": [
    {
     "name": "stdout",
     "output_type": "stream",
     "text": [
      "masukkan angka: 50\n",
      "50\n",
      "finnaly akan selalu dijalanka\n"
     ]
    }
   ],
   "source": [
    "try:\n",
    "    angka = int(input('masukkan angka: '))\n",
    "except:\n",
    "    print(\"masukkan angka bukan karakter\")\n",
    "else:\n",
    "    print(angka)\n",
    "finally:\n",
    "    print(\"finnaly akan selalu dijalanka\")"
   ]
  },
  {
   "cell_type": "markdown",
   "id": "b3af69c0",
   "metadata": {},
   "source": [
    "# raise = raise yang dapat mengeluarkan error secara sengaja.\n",
    "Perintah raise digunakan untuk membangkitkan atau melempat eksepsi berdasarkan kondisi-kondisi tertentu"
   ]
  },
  {
   "cell_type": "code",
   "execution_count": 13,
   "id": "30d679eb",
   "metadata": {},
   "outputs": [
    {
     "name": "stdout",
     "output_type": "stream",
     "text": [
      "masukkan angka: 5\n",
      "2.0\n",
      "finnaly akan selalu dijalanka\n"
     ]
    },
    {
     "ename": "ZeroDivisionError",
     "evalue": "raise akan dijalankan meski tidak ada error ",
     "output_type": "error",
     "traceback": [
      "\u001b[1;31m---------------------------------------------------------------------------\u001b[0m",
      "\u001b[1;31mZeroDivisionError\u001b[0m                         Traceback (most recent call last)",
      "\u001b[1;32m~\\AppData\\Local\\Temp/ipykernel_8992/638870679.py\u001b[0m in \u001b[0;36m<module>\u001b[1;34m\u001b[0m\n\u001b[0;32m      2\u001b[0m     \u001b[0mangka\u001b[0m \u001b[1;33m=\u001b[0m \u001b[0mint\u001b[0m\u001b[1;33m(\u001b[0m\u001b[0minput\u001b[0m\u001b[1;33m(\u001b[0m\u001b[1;34m'masukkan angka: '\u001b[0m\u001b[1;33m)\u001b[0m\u001b[1;33m)\u001b[0m\u001b[1;33m\u001b[0m\u001b[1;33m\u001b[0m\u001b[0m\n\u001b[0;32m      3\u001b[0m     \u001b[0mprint\u001b[0m\u001b[1;33m(\u001b[0m\u001b[1;36m10\u001b[0m\u001b[1;33m/\u001b[0m\u001b[0mangka\u001b[0m\u001b[1;33m)\u001b[0m\u001b[1;33m\u001b[0m\u001b[1;33m\u001b[0m\u001b[0m\n\u001b[1;32m----> 4\u001b[1;33m     \u001b[1;32mraise\u001b[0m \u001b[0mZeroDivisionError\u001b[0m\u001b[1;33m(\u001b[0m\u001b[1;34m'raise akan dijalankan meski tidak ada error '\u001b[0m\u001b[1;33m)\u001b[0m\u001b[1;33m\u001b[0m\u001b[1;33m\u001b[0m\u001b[0m\n\u001b[0m\u001b[0;32m      5\u001b[0m \u001b[1;32mfinally\u001b[0m\u001b[1;33m:\u001b[0m\u001b[1;33m\u001b[0m\u001b[1;33m\u001b[0m\u001b[0m\n\u001b[0;32m      6\u001b[0m     \u001b[0mprint\u001b[0m\u001b[1;33m(\u001b[0m\u001b[1;34m\"finnaly akan selalu dijalanka\"\u001b[0m\u001b[1;33m)\u001b[0m\u001b[1;33m\u001b[0m\u001b[1;33m\u001b[0m\u001b[0m\n",
      "\u001b[1;31mZeroDivisionError\u001b[0m: raise akan dijalankan meski tidak ada error "
     ]
    }
   ],
   "source": [
    "try:\n",
    "    angka = int(input('masukkan angka: '))\n",
    "    print(10/angka)\n",
    "    raise ZeroDivisionError('raise akan dijalankan meski tidak ada error ')\n",
    "finally:\n",
    "    print(\"finnaly akan selalu dijalanka\")"
   ]
  }
 ],
 "metadata": {
  "kernelspec": {
   "display_name": "Python 3 (ipykernel)",
   "language": "python",
   "name": "python3"
  },
  "language_info": {
   "codemirror_mode": {
    "name": "ipython",
    "version": 3
   },
   "file_extension": ".py",
   "mimetype": "text/x-python",
   "name": "python",
   "nbconvert_exporter": "python",
   "pygments_lexer": "ipython3",
   "version": "3.9.5"
  }
 },
 "nbformat": 4,
 "nbformat_minor": 5
}
