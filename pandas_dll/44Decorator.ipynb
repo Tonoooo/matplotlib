{
 "cells": [
  {
   "cell_type": "markdown",
   "id": "2804f5be",
   "metadata": {},
   "source": [
    "# Penjelasan () dan del disebuah fungsi"
   ]
  },
  {
   "cell_type": "code",
   "execution_count": 1,
   "id": "eb9406ea",
   "metadata": {},
   "outputs": [],
   "source": [
    "def kurban():\n",
    "    print(\"kurban sapi limosin 1.5 ton\")"
   ]
  },
  {
   "cell_type": "code",
   "execution_count": 2,
   "id": "a08025df",
   "metadata": {},
   "outputs": [
    {
     "data": {
      "text/plain": [
       "<function __main__.kurban()>"
      ]
     },
     "execution_count": 2,
     "metadata": {},
     "output_type": "execute_result"
    }
   ],
   "source": [
    "kurban #  yang tampil hanya unsur yang dimiliki"
   ]
  },
  {
   "cell_type": "code",
   "execution_count": 3,
   "id": "be185d33",
   "metadata": {},
   "outputs": [],
   "source": [
    "coba = kurban"
   ]
  },
  {
   "cell_type": "code",
   "execution_count": 4,
   "id": "a15f9bf1",
   "metadata": {},
   "outputs": [
    {
     "data": {
      "text/plain": [
       "<function __main__.kurban()>"
      ]
     },
     "execution_count": 4,
     "metadata": {},
     "output_type": "execute_result"
    }
   ],
   "source": [
    "coba # jika tidak ada kurung tidak dijalankan.dan yang tampil hanya lokasi/unsur yang dimiliki"
   ]
  },
  {
   "cell_type": "code",
   "execution_count": 5,
   "id": "41a151a3",
   "metadata": {},
   "outputs": [
    {
     "name": "stdout",
     "output_type": "stream",
     "text": [
      "kurban sapi limosin 1.5 ton\n"
     ]
    }
   ],
   "source": [
    "coba()  # tapi kalo ada () maka dipanggil/ditampilkan/dijalankan"
   ]
  },
  {
   "cell_type": "code",
   "execution_count": null,
   "id": "b0e2bc16",
   "metadata": {},
   "outputs": [],
   "source": [
    "# jadi tanda kurung () difungsi berfungsi untuk menjalankan"
   ]
  },
  {
   "cell_type": "code",
   "execution_count": 6,
   "id": "bf7743bd",
   "metadata": {},
   "outputs": [],
   "source": [
    "del kurban # kita menghapus fungsi kurban"
   ]
  },
  {
   "cell_type": "code",
   "execution_count": 7,
   "id": "dac13642",
   "metadata": {},
   "outputs": [
    {
     "ename": "NameError",
     "evalue": "name 'kurban' is not defined",
     "output_type": "error",
     "traceback": [
      "\u001b[1;31m---------------------------------------------------------------------------\u001b[0m",
      "\u001b[1;31mNameError\u001b[0m                                 Traceback (most recent call last)",
      "\u001b[1;32m~\\AppData\\Local\\Temp/ipykernel_6696/3261965023.py\u001b[0m in \u001b[0;36m<module>\u001b[1;34m\u001b[0m\n\u001b[1;32m----> 1\u001b[1;33m \u001b[0mkurban\u001b[0m\u001b[1;33m\u001b[0m\u001b[1;33m\u001b[0m\u001b[0m\n\u001b[0m",
      "\u001b[1;31mNameError\u001b[0m: name 'kurban' is not defined"
     ]
    }
   ],
   "source": [
    "kurban # fungsi kurban telah dihapus"
   ]
  },
  {
   "cell_type": "code",
   "execution_count": 8,
   "id": "e5f3de5d",
   "metadata": {},
   "outputs": [
    {
     "data": {
      "text/plain": [
       "<function __main__.kurban()>"
      ]
     },
     "execution_count": 8,
     "metadata": {},
     "output_type": "execute_result"
    }
   ],
   "source": [
    "# walaupun fungsi kurban telah dihapus\n",
    "# tapi variabel coba yang mengandung fungsi kurban tetap bisa dijalankan\n",
    "coba"
   ]
  },
  {
   "cell_type": "code",
   "execution_count": 9,
   "id": "6f405a2f",
   "metadata": {},
   "outputs": [
    {
     "name": "stdout",
     "output_type": "stream",
     "text": [
      "kurban sapi limosin 1.5 ton\n"
     ]
    }
   ],
   "source": [
    "coba()"
   ]
  },
  {
   "cell_type": "markdown",
   "id": "5ce91fa4",
   "metadata": {},
   "source": [
    "# mantap. lanjut parameter"
   ]
  },
  {
   "cell_type": "code",
   "execution_count": 16,
   "id": "d9cdb7ae",
   "metadata": {},
   "outputs": [],
   "source": [
    "def kurban2(bulan='Dzulhijah'): # bulan adalah parameternta,dan 'Dzulhijah' itu hanya default saja bisa di isi/diganti bebas dan jika tidak diisi maka itu yan akan tampil\n",
    "    print('alhamdulilah bisa kurban 3 sapi limosin dibulan',bulan)"
   ]
  },
  {
   "cell_type": "code",
   "execution_count": 17,
   "id": "7d8f80ce",
   "metadata": {},
   "outputs": [
    {
     "name": "stdout",
     "output_type": "stream",
     "text": [
      "alhamdulilah bisa kurban 3 sapi limosin dibulan juli\n"
     ]
    }
   ],
   "source": [
    "aku = kurban2('juli')"
   ]
  },
  {
   "cell_type": "markdown",
   "id": "41208e8f",
   "metadata": {},
   "source": [
    "# didalam fungsi ada fungsi (cara ribet)"
   ]
  },
  {
   "cell_type": "code",
   "execution_count": 21,
   "id": "f839ba66",
   "metadata": {},
   "outputs": [],
   "source": [
    "def kurban3(bulan='Dzulhijah'):\n",
    "    print('alhamdulilah bisa kurban 3 sapi limosin dibulan',bulan)\n",
    "    \n",
    "    def lokasi():\n",
    "        return '\\t lokasi kurban ada di dekat masjid dan di lapangan' #\\t = agar ada jarak, jadi spasinya banyak\n",
    "    \n",
    "    \n",
    "    # print(lokasi()) # ini hanya contoh penggunaan saja. agar bisa ditampilkan/dipanggil\n",
    "    # maka kita pake ini agar dipanggildan ditampilkan.\n",
    "    # karna\n",
    "    # fungsi lokasi hanya dipahami python di dalam fungsi kurban3 \n",
    "    # fungsi lokasi tidak bisa dipanggil diluar\n",
    "    "
   ]
  },
  {
   "cell_type": "code",
   "execution_count": 22,
   "id": "bad4aff2",
   "metadata": {},
   "outputs": [
    {
     "name": "stdout",
     "output_type": "stream",
     "text": [
      "alhamdulilah bisa kurban 3 sapi limosin dibulan Dzulhijah\n",
      "\t lokasi kurban ada di dekat masjid dan di lapangan\n"
     ]
    }
   ],
   "source": [
    "kurban3()"
   ]
  },
  {
   "cell_type": "code",
   "execution_count": 23,
   "id": "6589f291",
   "metadata": {
    "scrolled": true
   },
   "outputs": [
    {
     "ename": "NameError",
     "evalue": "name 'lokasi' is not defined",
     "output_type": "error",
     "traceback": [
      "\u001b[1;31m---------------------------------------------------------------------------\u001b[0m",
      "\u001b[1;31mNameError\u001b[0m                                 Traceback (most recent call last)",
      "\u001b[1;32m~\\AppData\\Local\\Temp/ipykernel_6696/1812844372.py\u001b[0m in \u001b[0;36m<module>\u001b[1;34m\u001b[0m\n\u001b[1;32m----> 1\u001b[1;33m \u001b[0mlokasi\u001b[0m\u001b[1;33m(\u001b[0m\u001b[1;33m)\u001b[0m\u001b[1;33m\u001b[0m\u001b[1;33m\u001b[0m\u001b[0m\n\u001b[0m",
      "\u001b[1;31mNameError\u001b[0m: name 'lokasi' is not defined"
     ]
    }
   ],
   "source": [
    "lokasi() # fungsi lokasi tidak bisa dipanggil diluar karna fungsi lokasi hanya dipahami python di dalam fungsi kurban3 "
   ]
  },
  {
   "cell_type": "markdown",
   "id": "01c5b7b6",
   "metadata": {},
   "source": [
    "# masih di materi fungsi(cara ribet)"
   ]
  },
  {
   "cell_type": "code",
   "execution_count": 26,
   "id": "7e5bdc66",
   "metadata": {},
   "outputs": [],
   "source": [
    "def kurban4(bulan='Dzulhijah'):\n",
    "    print('alhamdulilah bisa kurban 3 sapi limosin dibulan',bulan)\n",
    "    \n",
    "    def lokasi():\n",
    "        return '\\t lokasi kurban ada di dekat masjid dan di lapangan'\n",
    "    \n",
    "    def konfirmasi():\n",
    "        return '\\n\\t pahalanya besar sekali' #\\n = newline\n",
    "    \n",
    "    print(\"ini merupakan perintah terakhir\")\n",
    "    \n",
    "    if bulan=='Dzulhijah':\n",
    "        return lokasi\n",
    "    else:\n",
    "        return konfirmasi\n",
    "    \n",
    "    # fungsi lokasi dan konfirmasi hanya bisa dipanggil didalam fungsi kurban4"
   ]
  },
  {
   "cell_type": "code",
   "execution_count": 27,
   "id": "db58b6dc",
   "metadata": {},
   "outputs": [
    {
     "name": "stdout",
     "output_type": "stream",
     "text": [
      "alhamdulilah bisa kurban 3 sapi limosin dibulan Dzulhijah\n",
      "ini merupakan perintah terakhir\n"
     ]
    },
    {
     "data": {
      "text/plain": [
       "<function __main__.kurban4.<locals>.lokasi()>"
      ]
     },
     "execution_count": 27,
     "metadata": {},
     "output_type": "execute_result"
    }
   ],
   "source": [
    "kurban4()"
   ]
  },
  {
   "cell_type": "code",
   "execution_count": 31,
   "id": "963f40b6",
   "metadata": {},
   "outputs": [],
   "source": [
    "# contoh pertama"
   ]
  },
  {
   "cell_type": "code",
   "execution_count": 28,
   "id": "d371580d",
   "metadata": {},
   "outputs": [
    {
     "name": "stdout",
     "output_type": "stream",
     "text": [
      "alhamdulilah bisa kurban 3 sapi limosin dibulan Dzulhijah\n",
      "ini merupakan perintah terakhir\n"
     ]
    }
   ],
   "source": [
    "cek_kurban = kurban4() # run nya isi si kurban4()"
   ]
  },
  {
   "cell_type": "code",
   "execution_count": 29,
   "id": "922c7155",
   "metadata": {},
   "outputs": [
    {
     "data": {
      "text/plain": [
       "<function __main__.kurban4.<locals>.lokasi()>"
      ]
     },
     "execution_count": 29,
     "metadata": {},
     "output_type": "execute_result"
    }
   ],
   "source": [
    "cek_kurban #  yang tampil unsur yang dimiliki kurban4() dan lokasi(). tidak ada konfirmasi karna ini Dzulhijah"
   ]
  },
  {
   "cell_type": "code",
   "execution_count": 30,
   "id": "03afc4d5",
   "metadata": {},
   "outputs": [
    {
     "name": "stdout",
     "output_type": "stream",
     "text": [
      "\t lokasi kurban ada di dekat masjid dan di lapangan\n"
     ]
    }
   ],
   "source": [
    "print(cek_kurban())  # kenapa hasilnya lokasi?, karna cek_kurban() ada dibulan Dzulhijah"
   ]
  },
  {
   "cell_type": "code",
   "execution_count": 32,
   "id": "d0037a80",
   "metadata": {},
   "outputs": [],
   "source": [
    "# contoh kedua"
   ]
  },
  {
   "cell_type": "code",
   "execution_count": 33,
   "id": "62685b5a",
   "metadata": {},
   "outputs": [
    {
     "name": "stdout",
     "output_type": "stream",
     "text": [
      "alhamdulilah bisa kurban 3 sapi limosin dibulan juli\n",
      "ini merupakan perintah terakhir\n"
     ]
    }
   ],
   "source": [
    "cek_lagi = kurban4('juli') # run nya isi si kurban4()"
   ]
  },
  {
   "cell_type": "code",
   "execution_count": 35,
   "id": "83dd1e57",
   "metadata": {},
   "outputs": [
    {
     "data": {
      "text/plain": [
       "<function __main__.kurban4.<locals>.konfirmasi()>"
      ]
     },
     "execution_count": 35,
     "metadata": {},
     "output_type": "execute_result"
    }
   ],
   "source": [
    "cek_lagi"
   ]
  },
  {
   "cell_type": "code",
   "execution_count": 34,
   "id": "5b1192fd",
   "metadata": {},
   "outputs": [
    {
     "name": "stdout",
     "output_type": "stream",
     "text": [
      "\n",
      "\t pahalanya besar sekali\n"
     ]
    }
   ],
   "source": [
    "print(cek_lagi()) # hasilnya konfirmasi karna cek_lagi bukan dzulhijah"
   ]
  },
  {
   "cell_type": "markdown",
   "id": "9182a9fc",
   "metadata": {},
   "source": [
    "# memanggil fungsi diluar fungsi"
   ]
  },
  {
   "cell_type": "code",
   "execution_count": 36,
   "id": "2d8c361f",
   "metadata": {},
   "outputs": [],
   "source": [
    "def salam():\n",
    "    return 'asslamualaikum'"
   ]
  },
  {
   "cell_type": "code",
   "execution_count": 37,
   "id": "c87b86b9",
   "metadata": {},
   "outputs": [
    {
     "data": {
      "text/plain": [
       "'asslamualaikum'"
      ]
     },
     "execution_count": 37,
     "metadata": {},
     "output_type": "execute_result"
    }
   ],
   "source": [
    "salam()"
   ]
  },
  {
   "cell_type": "code",
   "execution_count": 38,
   "id": "3a08f436",
   "metadata": {},
   "outputs": [],
   "source": [
    "def kabar(fungsi_lain):\n",
    "    print(\"ini menjalankan fungsi lain\")\n",
    "    print(fungsi_lain)"
   ]
  },
  {
   "cell_type": "code",
   "execution_count": 39,
   "id": "dce30aa1",
   "metadata": {},
   "outputs": [
    {
     "name": "stdout",
     "output_type": "stream",
     "text": [
      "ini menjalankan fungsi lain\n",
      "<function salam at 0x000001DF0AAF39D0>\n"
     ]
    }
   ],
   "source": [
    "kabar(salam) # jika tidak memakai () disalamnya yang tampil hanya kabar dan lokasi si fungsi salam"
   ]
  },
  {
   "cell_type": "code",
   "execution_count": 40,
   "id": "23cef9df",
   "metadata": {},
   "outputs": [
    {
     "name": "stdout",
     "output_type": "stream",
     "text": [
      "ini menjalankan fungsi lain\n",
      "asslamualaikum\n"
     ]
    }
   ],
   "source": [
    "kabar(salam()) # karna pake()nya (salam()) jadi salamnya dijalankn"
   ]
  },
  {
   "cell_type": "code",
   "execution_count": 41,
   "id": "61a4df75",
   "metadata": {},
   "outputs": [],
   "source": [
    "# jadi jika pake () akan dijalankan jika tidak maka hanya lokasinya saja"
   ]
  },
  {
   "cell_type": "markdown",
   "id": "ec2b9e4b",
   "metadata": {},
   "source": [
    "# Decorator @"
   ]
  },
  {
   "cell_type": "markdown",
   "id": "4af56a8f",
   "metadata": {},
   "source": [
    "Decorator adalah sebuah fungsi yang disingkat dengan @                                    \n",
    "@nama_fungsi"
   ]
  },
  {
   "cell_type": "code",
   "execution_count": 7,
   "id": "bd6868e0",
   "metadata": {},
   "outputs": [],
   "source": [
    "def decoratorku(fungsi):\n",
    "    def wrap_func():\n",
    "        print(\"ini adalah perintah sebelum perintah fungsi aslinya\")\n",
    "        print('\\n')\n",
    "        fungsi()\n",
    "        print('\\n')\n",
    "        print(\"ini adalah fungsi aslinya\")\n",
    "        print(\"😎😎😎😎😎😎😎\")\n",
    "    return wrap_func"
   ]
  },
  {
   "cell_type": "code",
   "execution_count": 10,
   "id": "a0a7ea18",
   "metadata": {},
   "outputs": [],
   "source": [
    "@decoratorku # decorator harus diatas fungsi yang mau diaplikasikan\n",
    "def salam(): # fungsi salam merupakan pengaplikasian dari fungsi decoratorku \n",
    "    print(\"assalammualaikum, ini pengaplikasian nya\")"
   ]
  },
  {
   "cell_type": "code",
   "execution_count": 11,
   "id": "771dcc01",
   "metadata": {},
   "outputs": [
    {
     "name": "stdout",
     "output_type": "stream",
     "text": [
      "ini adalah perintah sebelum perintah fungsi aslinya\n",
      "\n",
      "\n",
      "assalammualaikum, ini pengaplikasian nya\n",
      "\n",
      "\n",
      "ini adalah fungsi aslinya\n",
      "😎😎😎😎😎😎😎\n"
     ]
    }
   ],
   "source": [
    "salam()"
   ]
  },
  {
   "cell_type": "code",
   "execution_count": 12,
   "id": "9d025857",
   "metadata": {},
   "outputs": [],
   "source": [
    "@decoratorku\n",
    "def hitung():\n",
    "    print(\"perhitungan\")"
   ]
  },
  {
   "cell_type": "code",
   "execution_count": 13,
   "id": "f6dd4064",
   "metadata": {},
   "outputs": [
    {
     "name": "stdout",
     "output_type": "stream",
     "text": [
      "ini adalah perintah sebelum perintah fungsi aslinya\n",
      "\n",
      "\n",
      "perhitungan\n",
      "\n",
      "\n",
      "ini adalah fungsi aslinya\n",
      "😎😎😎😎😎😎😎\n"
     ]
    }
   ],
   "source": [
    "hitung()"
   ]
  },
  {
   "cell_type": "markdown",
   "id": "3ab04606",
   "metadata": {},
   "source": [
    "# Kapan decorator digunakan?"
   ]
  },
  {
   "cell_type": "code",
   "execution_count": 14,
   "id": "62470038",
   "metadata": {},
   "outputs": [],
   "source": [
    "# contoh penggunaan decorator di website\n",
    "pengguna1 = {'nama':'Tono',\n",
    "            'valid':True}"
   ]
  },
  {
   "cell_type": "code",
   "execution_count": 19,
   "id": "ecc1b885",
   "metadata": {},
   "outputs": [],
   "source": [
    "def otentifikasi(fungsi):\n",
    "    def wrap_func(*args, **kwargs):\n",
    "        if args[0]['valid']:\n",
    "            return fungsi(*args, **kwargs)\n",
    "    return wrap_func"
   ]
  },
  {
   "cell_type": "code",
   "execution_count": 20,
   "id": "56a1c3b9",
   "metadata": {},
   "outputs": [],
   "source": [
    "@otentifikasi\n",
    "def kirim_pesan(user):\n",
    "    print(\"pesan telah dikirim\")"
   ]
  },
  {
   "cell_type": "code",
   "execution_count": 21,
   "id": "f80b514f",
   "metadata": {},
   "outputs": [
    {
     "name": "stdout",
     "output_type": "stream",
     "text": [
      "pesan telah dikirim\n"
     ]
    }
   ],
   "source": [
    "kirim_pesan(pengguna1)"
   ]
  },
  {
   "cell_type": "code",
   "execution_count": null,
   "id": "e6379860",
   "metadata": {},
   "outputs": [],
   "source": []
  }
 ],
 "metadata": {
  "kernelspec": {
   "display_name": "Python 3 (ipykernel)",
   "language": "python",
   "name": "python3"
  },
  "language_info": {
   "codemirror_mode": {
    "name": "ipython",
    "version": 3
   },
   "file_extension": ".py",
   "mimetype": "text/x-python",
   "name": "python",
   "nbconvert_exporter": "python",
   "pygments_lexer": "ipython3",
   "version": "3.9.5"
  }
 },
 "nbformat": 4,
 "nbformat_minor": 5
}
