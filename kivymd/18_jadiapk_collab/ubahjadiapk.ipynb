{
  "nbformat": 4,
  "nbformat_minor": 0,
  "metadata": {
    "colab": {
      "provenance": [],
      "collapsed_sections": []
    },
    "kernelspec": {
      "name": "python3",
      "display_name": "Python 3"
    },
    "language_info": {
      "name": "python"
    }
  },
  "cells": [
    {
      "cell_type": "markdown",
      "source": [
        "# Menjadikan Aplikasi Android\n",
        "Ini menggunakan Google Collab.\n",
        "\n",
        "### Import file pythonnya\n",
        "Import/upload file python nya, NAMA FILENYA HARUS main.py , import juga file kv (jika pake) dan uploud juga aset / gambar gambar nya"
      ],
      "metadata": {
        "id": "xhOC9lkYPLL9"
      }
    },
    {
      "cell_type": "code",
      "execution_count": null,
      "metadata": {
        "id": "uaDR4Y-1JPCB"
      },
      "outputs": [],
      "source": [
        "!pip install buildozer # Buildozer adalah alat yang bertujuan untuk mengemas aplikasi ponsel dengan mudah"
      ]
    },
    {
      "cell_type": "code",
      "source": [
        "!pip install cython==0.29.19"
      ],
      "metadata": {
        "id": "OHaxmeIXVRBF"
      },
      "execution_count": null,
      "outputs": []
    },
    {
      "cell_type": "code",
      "source": [
        "!sudo apt-get install -y \\\n",
        "    python3-pip \\\n",
        "    build-essential \\\n",
        "    git \\\n",
        "    python3 \\\n",
        "    python3-dev \\\n",
        "    ffmpeg \\\n",
        "    libsdl2-dev \\\n",
        "    libsdl2-image-dev \\\n",
        "    libsdl2-mixer-dev \\\n",
        "    libsdl2-ttf-dev \\\n",
        "    libportmidi-dev \\\n",
        "    libswscale-dev \\\n",
        "    libavformat-dev \\\n",
        "    libavcodec-dev \\\n",
        "    zlib1g-dev"
      ],
      "metadata": {
        "id": "YaIe-kSBVSkr"
      },
      "execution_count": null,
      "outputs": []
    },
    {
      "cell_type": "code",
      "source": [
        "!sudo apt-get install -y \\\n",
        "    libgstreamer1.0 \\\n",
        "    gstreamer1.0-plugins-base \\\n",
        "    gstreamer1.0-plugins-good"
      ],
      "metadata": {
        "id": "hIa5qSXYVUbY"
      },
      "execution_count": null,
      "outputs": []
    },
    {
      "cell_type": "code",
      "source": [
        "!sudo apt-get install build-essential libsqlite3-dev sqlite3 bzip2 libbz2-dev zlib1g-dev libssl-dev openssl libgdbm-dev libgdbm-compat-dev liblzma-dev libreadline-dev libncursesw5-dev libffi-dev uuid-dev libffi6"
      ],
      "metadata": {
        "id": "iVFcnffZVWSm"
      },
      "execution_count": null,
      "outputs": []
    },
    {
      "cell_type": "code",
      "source": [
        "!sudo apt-get install libffi-dev"
      ],
      "metadata": {
        "id": "vu6ajN9qVXsO"
      },
      "execution_count": null,
      "outputs": []
    },
    {
      "cell_type": "markdown",
      "source": [
        "## sebelum inisialisasi harap import/updload file pythonnya(main.py) beserta aset aset nya"
      ],
      "metadata": {
        "id": "g_tiaqdJQToJ"
      }
    },
    {
      "cell_type": "code",
      "source": [
        "!buildozer init # inisialisasi"
      ],
      "metadata": {
        "id": "nbu-2P2-VZKH"
      },
      "execution_count": null,
      "outputs": []
    },
    {
      "cell_type": "markdown",
      "source": [
        "# Setelah dijalankan init tadi akan ada file buildozer.spec\n",
        "silahkan ganti isi dari file buildnya:\n",
        "\n",
        "~ title = judul apknya\n",
        "\n",
        "~ Di baris 50 untuk icon/logo apk. tinggal hapus tagnya (#) lalu masukkan alamat gambarnya format gambarnya png:\n",
        "icon.filename = logosquidward.png\n",
        "\n",
        "~ isi requirements di baris 40 isi sesuai versinya (harus sama dengan versi saat membuatnya(saat ngoding)) contoh:\n",
        "requirements = python3,kivy==2.1.0,kivymd==1.1.1,pillow\n",
        "\n",
        "~ untuk presplash screennya tinggal hapus tagnya (#) lalu masukkan alamat gambarnya format gambarnya png:\n",
        "presplash.filename = presplash.png"
      ],
      "metadata": {
        "id": "g0Bjj3_kSIzX"
      }
    },
    {
      "cell_type": "code",
      "source": [
        "!buildozer -v android debug # buat aplikasinya"
      ],
      "metadata": {
        "id": "mnV1cpgAVa5U"
      },
      "execution_count": null,
      "outputs": []
    },
    {
      "cell_type": "code",
      "source": [
        "!buildozer android clean"
      ],
      "metadata": {
        "id": "fV2EO7_PVezZ"
      },
      "execution_count": null,
      "outputs": []
    }
  ]
}